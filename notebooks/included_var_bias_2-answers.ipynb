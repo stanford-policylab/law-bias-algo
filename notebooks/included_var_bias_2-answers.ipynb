{
 "cells": [
  {
   "cell_type": "markdown",
   "metadata": {},
   "source": [
    "# Law, Bias, and Algorithms\n",
    "## Included variable bias (2/2)"
   ]
  },
  {
   "cell_type": "code",
   "execution_count": 1,
   "metadata": {},
   "outputs": [
    {
     "name": "stderr",
     "output_type": "stream",
     "text": [
      "── Attaching packages ─────────────────────────────────────── tidyverse 1.2.1 ──\n",
      "✔ ggplot2 2.2.1     ✔ purrr   0.2.5\n",
      "✔ tibble  1.4.2     ✔ dplyr   0.7.5\n",
      "✔ tidyr   0.8.1     ✔ stringr 1.3.0\n",
      "✔ readr   1.1.1     ✔ forcats 0.3.0\n",
      "── Conflicts ────────────────────────────────────────── tidyverse_conflicts() ──\n",
      "✖ dplyr::filter() masks stats::filter()\n",
      "✖ dplyr::lag()    masks stats::lag()\n"
     ]
    }
   ],
   "source": [
    "# Some initial setup\n",
    "options(digits = 3)\n",
    "library(tidyverse)\n",
    "\n",
    "theme_set(theme_bw())\n",
    "\n",
    "# Read the data\n",
    "stop_df <- read_rds(\"../data/sqf_sample.rds\")"
   ]
  },
  {
   "cell_type": "markdown",
   "metadata": {},
   "source": [
    "## Included variable bias"
   ]
  },
  {
   "cell_type": "markdown",
   "metadata": {},
   "source": [
    "One common method for measuring disparities while addressing some of the omitted variable bias concerns is to include _all_ recorded data, that would have been available to the officer at the time of making the decision (to frisk an individual). This is also known as the \"kitchen sink\" approach.\n",
    "\n",
    "### Exercise 6: The kitchen sink approach\n",
    "\n",
    "For convenience, we have created a formula that includes all the variables that an officer would have had available when making the frisk decision.\n",
    "\n",
    "* **Step 1**: Using the provided `kitchen_sink_formula`, apply the kitchen sink approach to measure the disparate impact of \n",
    "frisk on minority race groups."
   ]
  },
  {
   "cell_type": "code",
   "execution_count": 2,
   "metadata": {},
   "outputs": [
    {
     "name": "stdout",
     "output_type": "stream",
     "text": [
      "   suspect_raceblack suspect_racehispanic \n",
      "               0.191                0.173 \n"
     ]
    }
   ],
   "source": [
    "race_coefficients <- c(\"suspect_raceblack\", \"suspect_racehispanic\")\n",
    "\n",
    "feats <- c(\n",
    "    \"suspected_crime\",\n",
    "    \"precinct\",\n",
    "    \"location_housing\",\n",
    "    \"suspect_sex\",\n",
    "    \"suspect_age\",\n",
    "    \"suspect_height\",\n",
    "    \"suspect_weight\",\n",
    "    \"suspect_hair\",\n",
    "    \"suspect_eye\",\n",
    "    \"suspect_build\",\n",
    "    \"additional_report\",\n",
    "    \"additional_investigation\",\n",
    "    \"additional_proximity\",\n",
    "    \"additional_evasive\",\n",
    "    \"additional_associating\",\n",
    "    \"additional_direction\",\n",
    "    \"additional_highcrime\",\n",
    "    \"additional_time\",\n",
    "    \"additional_sights\",\n",
    "    \"additional_other\",\n",
    "    \"stop_reason_object\",\n",
    "    \"stop_reason_desc\",\n",
    "    \"stop_reason_casing\",\n",
    "    \"stop_reason_lookout\",\n",
    "    \"stop_reason_clothing\",\n",
    "    \"stop_reason_drugs\",\n",
    "    \"stop_reason_furtive\",\n",
    "    \"stop_reason_violent\",\n",
    "    \"stop_reason_bulge\",\n",
    "    \"stop_reason_other\",\n",
    "    \"suspect_race\"\n",
    ")\n",
    "\n",
    "# This creates a formula with a specified left-hand side (frisked), and using \n",
    "# all the variables in feats on the right-hand side. \n",
    "# Constructing a formula in this way (instead of typing out all the variable names)\n",
    "# is helpful for constructing multiple models that share a long list of variables in the right-hand side.\n",
    "kitchen_sink_formula <- as.formula(paste(\"frisked ~\", paste(feats, collapse = \"+\")))\n",
    "\n",
    "# WRITE CODE HERE\n",
    "# START solution\n",
    "# We are only interested in the race coefficients\n",
    "ks_model <- glm(kitchen_sink_formula, stop_df, family = binomial)\n",
    "print(coef(ks_model)[race_coefficients])\n",
    "# END solution"
   ]
  },
  {
   "cell_type": "markdown",
   "metadata": {},
   "source": [
    "* **Step 2**: Note how the kitchen sink model reduces the coefficients on race---suggesting much less disparate impact than the base model.\n",
    "Now carefully consider each variable that is included in `feats`. Are all of these variables justified? Which would you argue should or should _not_ be included? Why?\n",
    "\n",
    "_Tip_: you can fit new models with different sets of features by commenting-out (adding a `# ` to the begining of) lines that define the `feats` vector and re-running the cell"
   ]
  },
  {
   "cell_type": "markdown",
   "metadata": {},
   "source": [
    "The problems with including variables in measuring disparate impact is that the correlation between a feature and race itself is not necessarily justified.\n",
    "An obvious example would be something like \"skin color\", where including skin color in the regression will likely account for observed disparities in race,\n",
    "but the correlation between skin color and race is unlikely to be justified!\n",
    "On the other hand, a less obvious example would be an officers suspicion of `cpw`.\n",
    "While it seems reasonable that an officer would frisk individuals suspected of posessing a weapon more frequently,\n",
    "the suspicion itself would only be justified if, and to the degree that, it is predictive of achieving the goal of a frisk: recovering weapons.\n",
    "\n",
    "Blindly including a variable in the regression for treatment fails to take into account this _degree_ of justification, \n",
    "often overcompensating for variables that are correlated with race.\n",
    "This is the problem known as _included variable bias_."
   ]
  },
  {
   "cell_type": "markdown",
   "metadata": {},
   "source": [
    "## Risk-adjusted regression"
   ]
  },
  {
   "cell_type": "markdown",
   "metadata": {},
   "source": [
    "As we briefly discussed, controlling for any variable (i.e., including it in the regression) is only justified if, and to the degree that, the variable is _predictive of the outcome we are ultimately interested in_ (in this case, recovering a weapon). But the extent to which each variable is justified is rarely clear.\n",
    "\n",
    "One simple idea for addressing this concern of included variable bias is to control for an explicit measure of **risk**, instead of controling for invididual variables.\n",
    "Intuitively, we wish to know whether individuals who have _similar risk_ (of carrying a weapon) were treated (frisked) equally."
   ]
  },
  {
   "cell_type": "markdown",
   "metadata": {},
   "source": [
    "### Exercise 7: estimating risk\n",
    "\n",
    "In order to adjust for risk, we must first estimate it. This is relatively straight forward in the context of frisk decisions in stop-and-frisk, \n",
    "because the goal of a frisk is clear---we wish to recover weapons (`found_weapon`). \n",
    "In other words, we want to predict whether a weapon would be found if an individual is frisked. \n",
    "One simple way to achieve this is to build a model with `found_weapon` on the left-hand side, restricting the data to the individuals who were frisked.\n",
    "\n",
    "* **Step 1**: `filter` the `stop_df` data to those individuals who were frisked. We will call this new data frame `frisk_df`"
   ]
  },
  {
   "cell_type": "code",
   "execution_count": 14,
   "metadata": {},
   "outputs": [],
   "source": [
    "# Subset the stop_df data to cases where the individual was frisked\n",
    "# WRITE CODE HERE\n",
    "# START solution\n",
    "frisk_df <- stop_df %>%\n",
    "    filter(frisked)\n",
    "# END solution"
   ]
  },
  {
   "cell_type": "markdown",
   "metadata": {},
   "source": [
    "* **Step 2**: Fit a logistic regression where the left-hand side is whether or not a weapon was found (`found_weapon`) and the right-hand side is all reasonable variables (as listed in `feats` above). Use this model to generate a column of model estimated risk (let's call it `risk`) on the original `stop_df` data. Note that we use logistic regression here for simplicity, but in reality, more complex methods for predictive modeling would be employed, with additional measures to avoid overfitting.\n",
    "\n",
    "_Tip_: Given a `glm` model named `risk_model`, a vector of predictions for `stop_df` can be created with the command `predict(risk_model, stop_df)`."
   ]
  },
  {
   "cell_type": "code",
   "execution_count": 15,
   "metadata": {},
   "outputs": [],
   "source": [
    "# Using the subset of data from Step 1, fit the logistic regression model: found_weapon ~ is_cpw \n",
    "# WRITE CODE HERE\n",
    "# START solution\n",
    "risk_formula <- as.formula(paste(\"found_weapon ~\", paste(feats, collapse = \"+\")))\n",
    "risk_model <- glm(risk_formula, data = frisk_df, family = binomial)\n",
    "\n",
    "stop_df <- stop_df %>%\n",
    "    mutate(risk = predict(risk_model, .))\n",
    "# END solution"
   ]
  },
  {
   "cell_type": "code",
   "execution_count": 26,
   "metadata": {},
   "outputs": [],
   "source": [
    "# TODO(?): Maybe it's worth adding a short section on risk model checking? (e.g., calibration)\n",
    "# TODO(?): We're being super hand-wavy here about scales (i.e., logit/probability). How much do we want/need to dive into the weeds?"
   ]
  },
  {
   "cell_type": "markdown",
   "metadata": {},
   "source": [
    "Once we have a good measure of risk, we can easily compute the disparity on race, accounting for risk, by fitting a regression with the two variables: race and risk."
   ]
  },
  {
   "cell_type": "markdown",
   "metadata": {},
   "source": [
    "### Exercise 8: Risk-adjusted regression\n",
    "\n",
    "Fit a logistic regression model to measure disparate impact on race, but only controling for risk, i.e., with the formula\n",
    "`frisked ~ suspect_race + risk`"
   ]
  },
  {
   "cell_type": "code",
   "execution_count": 21,
   "metadata": {},
   "outputs": [
    {
     "data": {
      "text/plain": [
       "\n",
       "Call:  glm(formula = frisked ~ suspect_race + risk, family = binomial, \n",
       "    data = stop_df)\n",
       "\n",
       "Coefficients:\n",
       "         (Intercept)     suspect_raceblack  suspect_racehispanic  \n",
       "               1.263                 0.807                 0.666  \n",
       "                risk  \n",
       "               0.228  \n",
       "\n",
       "Degrees of Freedom: 99999 Total (i.e. Null);  99996 Residual\n",
       "Null Deviance:\t    120000 \n",
       "Residual Deviance: 117000 \tAIC: 117000"
      ]
     },
     "metadata": {},
     "output_type": "display_data"
    }
   ],
   "source": [
    "# WRITE CODE HERE\n",
    "# START solution\n",
    "glm(frisked ~ suspect_race + risk, stop_df, family = binomial)\n",
    "# END solution"
   ]
  }
 ],
 "metadata": {
  "kernelspec": {
   "display_name": "R",
   "language": "R",
   "name": "ir"
  },
  "language_info": {
   "codemirror_mode": "r",
   "file_extension": ".r",
   "mimetype": "text/x-r-source",
   "name": "R",
   "pygments_lexer": "r",
   "version": "3.4.4"
  }
 },
 "nbformat": 4,
 "nbformat_minor": 2
}
