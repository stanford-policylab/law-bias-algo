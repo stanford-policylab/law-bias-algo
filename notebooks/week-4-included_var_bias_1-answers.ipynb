{
 "cells": [
  {
   "cell_type": "markdown",
   "metadata": {},
   "source": [
    "# Law, Bias, and Algorithms\n",
    "## Included variable bias (1/2)"
   ]
  },
  {
   "cell_type": "code",
   "execution_count": 1,
   "metadata": {},
   "outputs": [
    {
     "name": "stderr",
     "output_type": "stream",
     "text": [
      "── Attaching packages ─────────────────────────────────────── tidyverse 1.2.1 ──\n",
      "✔ ggplot2 2.2.1     ✔ purrr   0.2.5\n",
      "✔ tibble  1.4.2     ✔ dplyr   0.7.5\n",
      "✔ tidyr   0.8.1     ✔ stringr 1.3.0\n",
      "✔ readr   1.1.1     ✔ forcats 0.3.0\n",
      "── Conflicts ────────────────────────────────────────── tidyverse_conflicts() ──\n",
      "✖ dplyr::filter() masks stats::filter()\n",
      "✖ dplyr::lag()    masks stats::lag()\n"
     ]
    }
   ],
   "source": [
    "# Some initial setup\n",
    "options(digits = 3)\n",
    "library(tidyverse)\n",
    "\n",
    "theme_set(theme_bw())\n",
    "\n",
    "# Read the data\n",
    "stop_df <- read_rds(\"../data/sqf_sample.rds\")"
   ]
  },
  {
   "cell_type": "markdown",
   "metadata": {},
   "source": [
    "The loaded data frame is a sample of stops in NYC, recorded on a \n",
    "[UF-250 form][uf250_link]\n",
    "\n",
    "Below is a list of columns in the data, roughly corresponding to the [UF-250 form][uf250_link]:\n",
    "\n",
    "* Base information regarding stop:\n",
    "    * `id`, `year`, `date`, `time`, `precinct`, `location_housing`, \n",
    "      `suspected_crime`\n",
    "\n",
    "* Circumstances which led to stop:\n",
    "    * `stop_reason_object`, `stop_reason_desc`, `stop_reason_casing`,\n",
    "      `stop_reason_lookout`, `stop_reason_clothing`, `stop_reason_drugs`,\n",
    "      `stop_reason_furtive`, `stop_reason_violent`, `stop_reason_bulge`,\n",
    "      `stop_reason_other` \n",
    "    \n",
    "* Suspect demographics:\n",
    "    * `suspect_dob`, `suspect_id_type`, `suspect_sex`, `suspect_race`,\n",
    "      `suspect_hispanic`, `suspect_age`, `suspect_height`, `suspect_weight`,\n",
    "      `suspect_hair`, `suspect_eye`, `suspect_build`, `reason_explained`,\n",
    "      `others_stopped`\n",
    "\n",
    "* Whether physical force was used:\n",
    "    * `force_hands`, `force_wall`, `force_ground`, `force_drawn`,\n",
    "      `force_pointed`, `force_baton`, `force_handcuffs`,\n",
    "      `force_pepper`, `force_other`\n",
    "\n",
    "* Was suspect arrested?: `arrested`\n",
    "\n",
    "* Was summons issued?: `summons_issued`\n",
    "\n",
    "* Officer in uniform?: `officer_uniform`, `officer_verbal`, `officer_shield`\n",
    "\n",
    "* Was person frisked?: `frisked`\n",
    "    * if yes: `frisk_reason_suspected_crime`, `frisk_reason_weapons`, \n",
    "      `frisk_reason_attire`, `frisk_reason_actual_crime`, \n",
    "      `frisk_reason_noncompliance`, `frisk_reason_threats`,\n",
    "      `frisk_reason_prior`, `frisk_reason_furtive`, `frisk_reason_bulge`\n",
    "\n",
    "* Was person searched?: `searched`,\n",
    "    * if yes: `searched_hardobject`, `searched_outline`,\n",
    "      `searched_admission`, `searched_other`\n",
    "\n",
    "* Was weapon found?: `found_weapon`\n",
    "    * if yes: `found_gun`, `found_pistol`, `found_rifle`, `found_assault`,\n",
    "      `found_knife`, `found_machinegun`, `found_other`\n",
    "      \n",
    "* Was other contraband found?: `found_contraband`\n",
    "\n",
    "* Additional circumstances/factors\n",
    "    * `additional_report`, `additional_investigation`, `additional_proximity`, \n",
    "      `additional_evasive`, `additional_associating`, `additional_direction`, \n",
    "      `additional_highcrime`, `additional_time`, `additional_sights`, \n",
    "      `additional_other`\n",
    "\n",
    "* Additional reports prepared: `extra_reports`\n",
    "\n",
    "[uf250_link]: https://www.prisonlegalnews.org/media/publications/Blank%20UF-250%20Form%20-%20Stop%2C%20Question%20and%20Frisk%20Report%20Worksheet%2C%20NYPD%2C%202016.pdf"
   ]
  },
  {
   "cell_type": "markdown",
   "metadata": {},
   "source": [
    "## Base rate disparities in the decision to frisk\n",
    "\n",
    "Here, we will compute the disparities in police decision to frisk individuals of different race groups."
   ]
  },
  {
   "cell_type": "markdown",
   "metadata": {},
   "source": [
    "### Exercise 1: manual computation of odds and odds ratios\n",
    "\n",
    "* **Step 1**: For each race group, compute the proportion that were frisked"
   ]
  },
  {
   "cell_type": "code",
   "execution_count": 3,
   "metadata": {},
   "outputs": [],
   "source": [
    "# With the stop_df data, group by suspect_race and compute the proportion (mean) of frisked == 1\n",
    "# WRITE CODE HERE\n",
    "# START solution\n",
    "p_frisked_df <- stop_df %>%\n",
    "    group_by(suspect_race) %>%\n",
    "    summarize(p_frisked = mean(frisked))\n",
    "# END solution"
   ]
  },
  {
   "cell_type": "markdown",
   "metadata": {},
   "source": [
    "* **Step 2**: Given probability $p$ of being frisked, the *odds* of being frisked is computed as $p / (1-p)$. \n",
    "\n",
    "For example, if $p = \\frac{1}{2}$, you're equally likely to be frisked or not (i.e., odds = 1); if $p = \\frac{2}{3}$, you're twice as likely to be frisked than not (odds = 2).\n",
    "\n",
    "Using the proportion frisked from step 1 as an estimate of the probability of being frisked, compute the *odds* of being frisked for each race."
   ]
  },
  {
   "cell_type": "code",
   "execution_count": 4,
   "metadata": {},
   "outputs": [],
   "source": [
    "# Compute the odds, p / (1-p), where p is the proportion from step 1\n",
    "# WRITE CODE HERE\n",
    "# START solution\n",
    "odds_df <- p_frisked_df %>%\n",
    "    mutate(odds = p_frisked / (1 - p_frisked))\n",
    "# END solution"
   ]
  },
  {
   "cell_type": "markdown",
   "metadata": {},
   "source": [
    "* **Step 3**: A common method of comparing odds between two groups is to compute the *odds ratio*. \n",
    "This is simply the ratio between two odds.\n",
    "\n",
    "For example, if the odds of being frisked is 0.8 for whites and 1.6 for blacks, the odds ratio of being frisked for blacks vs. whites would be $1.6 / 0.8 = 2$. In other words, we would say stopped blacks are twice as likely to be frisked, compared to stopped whites.\n",
    "\n",
    "Using the odds computed in step 2, compute the odds ratio for minority groups (black / Hispanic) versus whites."
   ]
  },
  {
   "cell_type": "code",
   "execution_count": 5,
   "metadata": {},
   "outputs": [
    {
     "data": {
      "text/html": [
       "<table>\n",
       "<thead><tr><th scope=col>or_black</th><th scope=col>or_hispanic</th></tr></thead>\n",
       "<tbody>\n",
       "\t<tr><td>2.1 </td><td>1.88</td></tr>\n",
       "</tbody>\n",
       "</table>\n"
      ],
      "text/latex": [
       "\\begin{tabular}{r|ll}\n",
       " or\\_black & or\\_hispanic\\\\\n",
       "\\hline\n",
       "\t 2.1  & 1.88\\\\\n",
       "\\end{tabular}\n"
      ],
      "text/markdown": [
       "\n",
       "or_black | or_hispanic | \n",
       "|---|\n",
       "| 2.1  | 1.88 | \n",
       "\n",
       "\n"
      ],
      "text/plain": [
       "  or_black or_hispanic\n",
       "1 2.1      1.88       "
      ]
     },
     "metadata": {},
     "output_type": "display_data"
    },
    {
     "name": "stdout",
     "output_type": "stream",
     "text": [
      "odds ratio for black: 2.1\n",
      "odds ratio for hispanic: 1.88"
     ]
    }
   ],
   "source": [
    "# Compute odds of frisk for minority race group / odds of frisk for whites\n",
    "# WRITE CODE HERE\n",
    "# START solution\n",
    "# Purely-tidy solution\n",
    "odds_df %>%\n",
    "    select(suspect_race, odds) %>%\n",
    "    spread(suspect_race, odds) %>%\n",
    "    transmute(or_black = black / white, or_hispanic = hispanic / white)\n",
    "\n",
    "# Alternative solution\n",
    "odds_black <- odds_df$odds[odds_df$suspect_race == \"black\"]\n",
    "odds_hispanic <- odds_df$odds[odds_df$suspect_race == \"hispanic\"]\n",
    "odds_white <- odds_df$odds[odds_df$suspect_race == \"white\"]\n",
    "\n",
    "cat(\"odds ratio for black:\", odds_black / odds_white)\n",
    "cat(\"\\n\")\n",
    "cat(\"odds ratio for hispanic:\", odds_hispanic / odds_white)\n",
    "# END solution"
   ]
  },
  {
   "cell_type": "markdown",
   "metadata": {},
   "source": [
    "### Base rate disparities with (logistic) regression\n",
    "\n",
    "Another method for comparing differences in treatment is to use regression. \n",
    "Specifically, logistic regression is commonly used for binary treatment, e.g., where the decision is either \"frisk\" or \"don't frisk\".\n",
    "\n",
    "In `R` we use the `glm` function to fit *generalized* regressions (e.g., logistic regression, poisson regression). \n",
    "In its simplest form, the `glm` function is specified with a `formula`, the `data`, and a `family` which indicates what type of regression is used.\n",
    "A `formula` in `R` is specified in the form: `Left-hand-side variable ~ Right-hand-side specifications`.\n",
    "For example, to fit a logistic regression (which is of the `binomial` `family`) of `frisked` to the `suspect_race` variable, using the `stop_df` data, we can write:"
   ]
  },
  {
   "cell_type": "code",
   "execution_count": 6,
   "metadata": {},
   "outputs": [],
   "source": [
    "base_model <- glm(frisked ~ suspect_race, data = stop_df, family = binomial)"
   ]
  },
  {
   "cell_type": "markdown",
   "metadata": {},
   "source": [
    "where the first argument to `glm` is assumed to be the `formula`.\n",
    "\n",
    "We can inspect the coefficients of the fitted model using the `coef()` function, i.e.,"
   ]
  },
  {
   "cell_type": "code",
   "execution_count": 7,
   "metadata": {},
   "outputs": [
    {
     "name": "stdout",
     "output_type": "stream",
     "text": [
      "         (Intercept)    suspect_raceblack suspect_racehispanic \n",
      "               0.304                0.740                0.633 \n"
     ]
    }
   ],
   "source": [
    "print(coef(base_model))"
   ]
  },
  {
   "cell_type": "markdown",
   "metadata": {},
   "source": [
    "Note that the coefficients of a logistic regression represent the change in *log*-odds of treatment for a unit change in the variable, compared to the base case.\n",
    "\n",
    "In this specific example, the base case is for `suspect_race = white`, and the `suspect_raceblack` coefficient represents the change in *log*-odds of being frisked for black individuals compared to the base case white individuals. And by exponentiating the coefficients, we effectively recover the odds-ratio of treatment for each race with respect to the base case whites."
   ]
  },
  {
   "cell_type": "code",
   "execution_count": 8,
   "metadata": {},
   "outputs": [
    {
     "name": "stdout",
     "output_type": "stream",
     "text": [
      "         (Intercept)    suspect_raceblack suspect_racehispanic \n",
      "                1.36                 2.10                 1.88 \n"
     ]
    }
   ],
   "source": [
    "# Exponentiating the coefficients recover odds ratio of treatment for each variable; \n",
    "# identical to what we find in exercise 2, \n",
    "# while the exponentiated intercept represents the odds of treatment for the base case (whites) \n",
    "print(exp(coef(base_model)))"
   ]
  },
  {
   "cell_type": "markdown",
   "metadata": {},
   "source": [
    "### Exercise 2: discussion of base rate disparities\n",
    "\n",
    "Given the results so far, what can we say about disparate impact of frisk decisions on race?\n",
    "What are some issues that need to be addressed?"
   ]
  },
  {
   "cell_type": "markdown",
   "metadata": {},
   "source": [
    "## Omitted variable bias"
   ]
  },
  {
   "cell_type": "markdown",
   "metadata": {},
   "source": [
    "One concern is that officers might have a legitimate reason to frisk certain individuals more often; it just so happens that the \"legitimate reason\" is also highly correlated with race.\n",
    "\n",
    "For example, one of the reasons for stopping an individual is if the officer suspects criminal posession of a weapon (encoded in the `suspected_crime` column as `cpw`).\n",
    "Given that the primary justification of a frisk is concern for officer safety, one could argue that it is reasonable for an officer to \n",
    "frisk individuals whom they have stopped under suspicion of criminal posession of weapons.\n",
    "\n",
    "(Although, whether an officer's _suspicion_ itself is justified is a different question, which we will address later)\n",
    "\n",
    "### Exercise 3: with `stop_df`, create a new binary column named `is_cpw` that is `TRUE` if `suspected_crime` is `cpw`."
   ]
  },
  {
   "cell_type": "code",
   "execution_count": 9,
   "metadata": {},
   "outputs": [],
   "source": [
    "# WRITE CODE TO ADD is_cpw column HERE\n",
    "# START solution\n",
    "stop_df <- stop_df %>%\n",
    "    mutate(is_cpw = suspected_crime == \"cpw\")\n",
    "# END solution"
   ]
  },
  {
   "cell_type": "markdown",
   "metadata": {},
   "source": [
    "However, we find that individuals who are suspected of `cpw` are *not* evenly distributed accross race groups."
   ]
  },
  {
   "cell_type": "code",
   "execution_count": 10,
   "metadata": {},
   "outputs": [
    {
     "data": {
      "text/html": [
       "<table>\n",
       "<thead><tr><th scope=col>suspect_race</th><th scope=col>p_cpw</th></tr></thead>\n",
       "<tbody>\n",
       "\t<tr><td>white   </td><td>0.117   </td></tr>\n",
       "\t<tr><td>black   </td><td>0.354   </td></tr>\n",
       "\t<tr><td>hispanic</td><td>0.252   </td></tr>\n",
       "</tbody>\n",
       "</table>\n"
      ],
      "text/latex": [
       "\\begin{tabular}{r|ll}\n",
       " suspect\\_race & p\\_cpw\\\\\n",
       "\\hline\n",
       "\t white    & 0.117   \\\\\n",
       "\t black    & 0.354   \\\\\n",
       "\t hispanic & 0.252   \\\\\n",
       "\\end{tabular}\n"
      ],
      "text/markdown": [
       "\n",
       "suspect_race | p_cpw | \n",
       "|---|---|---|\n",
       "| white    | 0.117    | \n",
       "| black    | 0.354    | \n",
       "| hispanic | 0.252    | \n",
       "\n",
       "\n"
      ],
      "text/plain": [
       "  suspect_race p_cpw\n",
       "1 white        0.117\n",
       "2 black        0.354\n",
       "3 hispanic     0.252"
      ]
     },
     "metadata": {},
     "output_type": "display_data"
    }
   ],
   "source": [
    "stop_df %>%\n",
    "  group_by(suspect_race) %>%\n",
    "  summarize(p_cpw = mean(is_cpw))"
   ]
  },
  {
   "cell_type": "markdown",
   "metadata": {},
   "source": [
    "Specifically, we find that a larger proportion of minorities are stopped for `cpw` than white,\n",
    "and if we control for `is_cpw` in our analysis, \n",
    "we find that the disparities we measure decrease significantly."
   ]
  },
  {
   "cell_type": "code",
   "execution_count": 2,
   "metadata": {},
   "outputs": [
    {
     "ename": "ERROR",
     "evalue": "Error in is.data.frame(data): object 'stop_df' not found\n",
     "execution_count": 2,
     "output_type": "error",
     "traceback": [
      "Error in is.data.frame(data): object 'stop_df' not found\nTraceback:\n",
      "1. glm(frisked ~ suspect_race + is_cpw, data = stop_df, family = binomial)",
      "2. eval(mf, parent.frame())",
      "3. eval(mf, parent.frame())",
      "4. stats::model.frame(formula = frisked ~ suspect_race + is_cpw, \n .     data = stop_df, drop.unused.levels = TRUE)",
      "5. model.frame.default(formula = frisked ~ suspect_race + is_cpw, \n .     data = stop_df, drop.unused.levels = TRUE)",
      "6. is.data.frame(data)"
     ]
    }
   ],
   "source": [
    "glm(frisked ~ suspect_race + is_cpw, data = stop_df, family = binomial)"
   ]
  },
  {
   "cell_type": "markdown",
   "metadata": {},
   "source": [
    "Note here that we \"control for\" a variable in our data by including it in the right-hand side of our regression formula."
   ]
  },
  {
   "cell_type": "markdown",
   "metadata": {},
   "source": [
    "### Exercise 4: what variables should be included?\n",
    "\n",
    "Following the above logic, there could be multiple legitimate factors that account for the observed discrepency of being frisked between different race groups. \n",
    "Explore `stop_df`, and discuss what variables (columns) should be accounted for when measuring disparate impact of frisk on race.\n",
    "What variables definitely should (or should *not*) be included?\n",
    "How does including different variables in the regression affect the coefficient on race?"
   ]
  },
  {
   "cell_type": "code",
   "execution_count": 12,
   "metadata": {},
   "outputs": [
    {
     "name": "stdout",
     "output_type": "stream",
     "text": [
      "   suspect_raceblack suspect_racehispanic \n",
      "               0.240                0.324 \n",
      "   suspect_raceblack suspect_racehispanic \n",
      "               0.249                0.199 \n"
     ]
    }
   ],
   "source": [
    "# We are only interested in the race coefficients\n",
    "race_coefficients <- c(\"suspect_raceblack\", \"suspect_racehispanic\")\n",
    "\n",
    "# WRITE CODE HERE\n",
    "# START solution\n",
    "# Example model including multiple variables\n",
    "print(coef(glm(frisked ~ suspect_race + suspected_crime + location_housing, \n",
    "               data = stop_df, family = binomial))[race_coefficients])\n",
    "\n",
    "print(coef(glm(frisked ~ suspect_race + suspected_crime + location_housing + precinct, \n",
    "               data = stop_df, family = binomial))[race_coefficients])\n",
    "# END solution"
   ]
  },
  {
   "cell_type": "markdown",
   "metadata": {},
   "source": [
    "## Included variable bias"
   ]
  },
  {
   "cell_type": "markdown",
   "metadata": {},
   "source": [
    "One common method for measuring disparities while addressing some of the omitted variable bias concerns is to include _all_ recorded data, that would have been available to the officer at the time of making the decision (to frisk an individual). This is also known as the \"kitchen sink\" approach.\n",
    "\n",
    "### Exercise 5: The kitchen sink approach\n",
    "\n",
    "For convenience, we have created a formula that includes all the variables that an officer would have had available when making the frisk decision.\n",
    "\n",
    "* **Step 1**: Using the provided `kitchen_sink_formula`, apply the kitchen sink approach to measure the disparate impact of \n",
    "frisk on minority race groups."
   ]
  },
  {
   "cell_type": "code",
   "execution_count": 13,
   "metadata": {},
   "outputs": [
    {
     "name": "stdout",
     "output_type": "stream",
     "text": [
      "   suspect_raceblack suspect_racehispanic \n",
      "               0.191                0.173 \n"
     ]
    }
   ],
   "source": [
    "feats <- c(\n",
    "    \"suspected_crime\",\n",
    "    \"precinct\",\n",
    "    \"location_housing\",\n",
    "    \"suspect_sex\",\n",
    "    \"suspect_age\",\n",
    "    \"suspect_height\",\n",
    "    \"suspect_weight\",\n",
    "    \"suspect_hair\",\n",
    "    \"suspect_eye\",\n",
    "    \"suspect_build\",\n",
    "    \"additional_report\",\n",
    "    \"additional_investigation\",\n",
    "    \"additional_proximity\",\n",
    "    \"additional_evasive\",\n",
    "    \"additional_associating\",\n",
    "    \"additional_direction\",\n",
    "    \"additional_highcrime\",\n",
    "    \"additional_time\",\n",
    "    \"additional_sights\",\n",
    "    \"additional_other\",\n",
    "    \"stop_reason_object\",\n",
    "    \"stop_reason_desc\",\n",
    "    \"stop_reason_casing\",\n",
    "    \"stop_reason_lookout\",\n",
    "    \"stop_reason_clothing\",\n",
    "    \"stop_reason_drugs\",\n",
    "    \"stop_reason_furtive\",\n",
    "    \"stop_reason_violent\",\n",
    "    \"stop_reason_bulge\",\n",
    "    \"stop_reason_other\",\n",
    "    \"suspect_race\"\n",
    ")\n",
    "\n",
    "# This creates a formula with a specified left-hand side (frisked), and using \n",
    "# all the variables in feats on the right-hand side. \n",
    "# Constructing a formula in this way (instead of typing out all the variable names)\n",
    "# is helpful for constructing multiple models that share a long list of variables in the right-hand side.\n",
    "kitchen_sink_formula <- as.formula(paste(\"frisked ~\", paste(feats, collapse = \"+\")))\n",
    "\n",
    "# WRITE CODE HERE\n",
    "# START solution\n",
    "# We are only interested in the race coefficients\n",
    "ks_model <- glm(kitchen_sink_formula, stop_df, family = binomial)\n",
    "print(coef(ks_model)[race_coefficients])\n",
    "# END solution"
   ]
  },
  {
   "cell_type": "markdown",
   "metadata": {},
   "source": [
    "* **Step 2**: Note how the kitchen sink model reduces the coefficients on race---suggesting much less disparate impact than the base model.\n",
    "Now carefully consider each variable that is included in `feats`. Are all of these variables justified? Which would you argue should or should _not_ be included? Why?\n",
    "\n",
    "_Tip_: you can fit new models with different sets of features by commenting-out (adding a `# ` to the begining of) lines that define the `feats` vector and re-running the cell"
   ]
  },
  {
   "cell_type": "markdown",
   "metadata": {},
   "source": [
    "The problems with including variables in measuring disparate impact is that the correlation between a feature and race itself is not necessarily justified.\n",
    "An obvious example would be something like \"skin color\", where including skin color in the regression will likely account for observed disparities in race,\n",
    "but the correlation between skin color and race is unlikely to be justified!\n",
    "On the other hand, a less obvious example would be an officers suspicion of `cpw`.\n",
    "While it seems reasonable that an officer would frisk individuals suspected of posessing a weapon more frequently,\n",
    "the suspicion itself would only be justified if, and to the degree that, it is predictive of achieving the goal of a frisk: recovering weapons.\n",
    "\n",
    "Blindly including a variable in the regression for treatment fails to take into account this _degree_ of justification, \n",
    "often overcompensating for variables that are correlated with race.\n",
    "This is the problem known as _included variable bias_. Next, we will learn one way of dealing with this included variable bias."
   ]
  }
 ],
 "metadata": {
  "kernelspec": {
   "display_name": "R",
   "language": "R",
   "name": "ir"
  },
  "language_info": {
   "codemirror_mode": "r",
   "file_extension": ".r",
   "mimetype": "text/x-r-source",
   "name": "R",
   "pygments_lexer": "r",
   "version": "3.4.4"
  }
 },
 "nbformat": 4,
 "nbformat_minor": 2
}
