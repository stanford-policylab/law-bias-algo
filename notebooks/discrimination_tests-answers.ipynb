{
 "cells": [
  {
   "cell_type": "markdown",
   "metadata": {},
   "source": [
    "# Law, Bias, and Algorithms\n",
    "## Tests for discrimination"
   ]
  },
  {
   "cell_type": "code",
   "execution_count": 4,
   "metadata": {},
   "outputs": [],
   "source": [
    "# Some initial setup\n",
    "options(digits = 3)\n",
    "\n",
    "library(tidyverse)\n",
    "\n",
    "# Read the data\n",
    "stop_df <- read_rds(\"../data/sqf_sample.rds\")\n",
    "\n",
    "theme_set(theme_bw())"
   ]
  },
  {
   "cell_type": "markdown",
   "metadata": {},
   "source": [
    "### The data\n",
    "\n",
    "The loaded data frame, `stop_df`, is a sample of stops in NYC, recorded on a \n",
    "[UF-250 form][uf250_link]\n",
    "\n",
    "Below is a list of columns in the data, roughly corresponding to the [UF-250 form][uf250_link]:\n",
    "\n",
    "* Base information regarding stop:\n",
    "    * `id`, `year`, `date`, `time`, `precinct`, `location_housing`, \n",
    "      `suspected_crime`\n",
    "\n",
    "* Circumstances which led to stop:\n",
    "    * `stop_reason_object`, `stop_reason_desc`, `stop_reason_casing`,\n",
    "      `stop_reason_lookout`, `stop_reason_clothing`, `stop_reason_drugs`,\n",
    "      `stop_reason_furtive`, `stop_reason_violent`, `stop_reason_bulge`,\n",
    "      `stop_reason_other` \n",
    "    \n",
    "* Suspect demographics:\n",
    "    * `suspect_dob`, `suspect_id_type`, `suspect_sex`, `suspect_race`,\n",
    "      `suspect_hispanic`, `suspect_age`, `suspect_height`, `suspect_weight`,\n",
    "      `suspect_hair`, `suspect_eye`, `suspect_build`, `reason_explained`,\n",
    "      `others_stopped`\n",
    "\n",
    "* Whether physical force was used:\n",
    "    * `force_hands`, `force_wall`, `force_ground`, `force_drawn`,\n",
    "      `force_pointed`, `force_baton`, `force_handcuffs`,\n",
    "      `force_pepper`, `force_other`\n",
    "\n",
    "* Was suspect arrested?: `arrested`\n",
    "\n",
    "* Was summons issued?: `summons_issued`\n",
    "\n",
    "* Officer in uniform?: `officer_uniform`, `officer_verbal`, `officer_shield`\n",
    "\n",
    "* Was person frisked?: `frisked`\n",
    "    * if yes: `frisk_reason_suspected_crime`, `frisk_reason_weapons`, \n",
    "      `frisk_reason_attire`, `frisk_reason_actual_crime`, \n",
    "      `frisk_reason_noncompliance`, `frisk_reason_threats`,\n",
    "      `frisk_reason_prior`, `frisk_reason_furtive`, `frisk_reason_bulge`\n",
    "\n",
    "* Was person searched?: `searched`,\n",
    "    * if yes: `searched_hardobject`, `searched_outline`,\n",
    "      `searched_admission`, `searched_other`\n",
    "\n",
    "* Was weapon found?: `found_weapon`\n",
    "    * if yes: `found_gun`, `found_pistol`, `found_rifle`, `found_assault`,\n",
    "      `found_knife`, `found_machinegun`, `found_other`\n",
    "      \n",
    "* Was other contraband found?: `found_contraband`\n",
    "\n",
    "* Additional circumstances/factors\n",
    "    * `additional_report`, `additional_investigation`, `additional_proximity`, \n",
    "      `additional_evasive`, `additional_associating`, `additional_direction`, \n",
    "      `additional_highcrime`, `additional_time`, `additional_sights`, \n",
    "      `additional_other`\n",
    "\n",
    "* Additional reports prepared: `extra_reports`\n",
    "\n",
    "[uf250_link]: https://www.prisonlegalnews.org/media/publications/Blank%20UF-250%20Form%20-%20Stop%2C%20Question%20and%20Frisk%20Report%20Worksheet%2C%20NYPD%2C%202016.pdf\n",
    "      "
   ]
  },
  {
   "cell_type": "markdown",
   "metadata": {},
   "source": [
    "### Exercise 1: Initial exploration\n",
    "\n",
    "* Compare columns of `stop_df` with the fields in the [UF-250 form][uf250_link].\n",
    "* Explore basic statistics, e.g.,\n",
    "    * What date range does our data cover?\n",
    "    * What is the proportion of stops by `suspect_race`?\n",
    "    * What are the five most common suspected crimes for a stop?\n",
    "    * What proportion of stops result in retrieval of weapon or contraband?\n",
    "* If you were to predict whether an officer would frisk a stopped individual, which columns/fields could you use? (i.e., which of the columns are pre/post frisk?)\n",
    "\n",
    "[uf250_link]: https://www.prisonlegalnews.org/media/publications/Blank%20UF-250%20Form%20-%20Stop%2C%20Question%20and%20Frisk%20Report%20Worksheet%2C%20NYPD%2C%202016.pdf\n"
   ]
  },
  {
   "cell_type": "code",
   "execution_count": 2,
   "metadata": {},
   "outputs": [
    {
     "data": {
      "text/html": [
       "<table>\n",
       "<thead><tr><th scope=col>start</th><th scope=col>end</th></tr></thead>\n",
       "<tbody>\n",
       "\t<tr><td>2008-01-01</td><td>2011-12-31</td></tr>\n",
       "</tbody>\n",
       "</table>\n"
      ],
      "text/latex": [
       "\\begin{tabular}{r|ll}\n",
       " start & end\\\\\n",
       "\\hline\n",
       "\t 2008-01-01 & 2011-12-31\\\\\n",
       "\\end{tabular}\n"
      ],
      "text/plain": [
       "  start      end       \n",
       "1 2008-01-01 2011-12-31"
      ]
     },
     "metadata": {},
     "output_type": "display_data"
    },
    {
     "data": {
      "text/html": [
       "<table>\n",
       "<thead><tr><th scope=col>suspect_race</th><th scope=col>stop_prop</th></tr></thead>\n",
       "<tbody>\n",
       "\t<tr><td>white   </td><td>0.127   </td></tr>\n",
       "\t<tr><td>black   </td><td>0.548   </td></tr>\n",
       "\t<tr><td>hispanic</td><td>0.325   </td></tr>\n",
       "</tbody>\n",
       "</table>\n"
      ],
      "text/latex": [
       "\\begin{tabular}{r|ll}\n",
       " suspect\\_race & stop\\_prop\\\\\n",
       "\\hline\n",
       "\t white    & 0.127   \\\\\n",
       "\t black    & 0.548   \\\\\n",
       "\t hispanic & 0.325   \\\\\n",
       "\\end{tabular}\n"
      ],
      "text/plain": [
       "  suspect_race stop_prop\n",
       "1 white        0.127    \n",
       "2 black        0.548    \n",
       "3 hispanic     0.325    "
      ]
     },
     "metadata": {},
     "output_type": "display_data"
    },
    {
     "data": {
      "text/html": [
       "<table>\n",
       "<thead><tr><th scope=col>suspected_crime</th><th scope=col>count</th></tr></thead>\n",
       "<tbody>\n",
       "\t<tr><td>cpw               </td><td>29087             </td></tr>\n",
       "\t<tr><td>robbery           </td><td>21230             </td></tr>\n",
       "\t<tr><td>burglary          </td><td>10424             </td></tr>\n",
       "\t<tr><td>grand larceny auto</td><td>10005             </td></tr>\n",
       "\t<tr><td>other             </td><td> 8192             </td></tr>\n",
       "</tbody>\n",
       "</table>\n"
      ],
      "text/latex": [
       "\\begin{tabular}{r|ll}\n",
       " suspected\\_crime & count\\\\\n",
       "\\hline\n",
       "\t cpw                & 29087             \\\\\n",
       "\t robbery            & 21230             \\\\\n",
       "\t burglary           & 10424             \\\\\n",
       "\t grand larceny auto & 10005             \\\\\n",
       "\t other              &  8192             \\\\\n",
       "\\end{tabular}\n"
      ],
      "text/plain": [
       "  suspected_crime    count\n",
       "1 cpw                29087\n",
       "2 robbery            21230\n",
       "3 burglary           10424\n",
       "4 grand larceny auto 10005\n",
       "5 other               8192"
      ]
     },
     "metadata": {},
     "output_type": "display_data"
    },
    {
     "data": {
      "text/html": [
       "<table>\n",
       "<thead><tr><th scope=col>p_success</th></tr></thead>\n",
       "<tbody>\n",
       "\t<tr><td>0.0511</td></tr>\n",
       "</tbody>\n",
       "</table>\n"
      ],
      "text/latex": [
       "\\begin{tabular}{r|l}\n",
       " p\\_success\\\\\n",
       "\\hline\n",
       "\t 0.0511\\\\\n",
       "\\end{tabular}\n"
      ],
      "text/plain": [
       "  p_success\n",
       "1 0.0511   "
      ]
     },
     "metadata": {},
     "output_type": "display_data"
    }
   ],
   "source": [
    "# WRITE CODE HERE\n",
    "# START solution\n",
    "# Date range\n",
    "stop_df %>%\n",
    "    summarize(\n",
    "        start = min(date),\n",
    "        end = max(date)\n",
    "    ) \n",
    "\n",
    "# Proportion of stops suspect race\n",
    "stop_df %>%\n",
    "    group_by(suspect_race) %>%\n",
    "    summarize(stop_prop = n()/nrow(.))\n",
    "\n",
    "# Top five suspected crimes\n",
    "stop_df %>%\n",
    "    group_by(suspected_crime) %>%\n",
    "    summarize(count = n()) %>%\n",
    "    arrange(desc(count)) %>%\n",
    "    top_n(5, count)\n",
    "\n",
    "# Proportion of \"successful\" stop (weapon or contraband found)\n",
    "stop_df %>% \n",
    "    mutate(success = found_weapon | found_contraband) %>%\n",
    "    summarize(p_success = mean(success))\n",
    "# END solution"
   ]
  },
  {
   "cell_type": "markdown",
   "metadata": {},
   "source": [
    "For the rest of the class, we'll be focusing on frisk data."
   ]
  },
  {
   "cell_type": "markdown",
   "metadata": {},
   "source": [
    "### Exercise 2: Frisk rates \n",
    "\n",
    "In considering whether there are racial disparities at the decision to frisk, we can compare frisk rates of minorities to frisk rates of white individuals. In other words, are whites who are stopped frisked more or less often than minorities who are stopped? Recall that the legal justification for a frisk is reasonable articulable suspicion (RAS) that the suspect posesses a weapon. Comparing frisk rates thus relies on the assumption that RAS is equally distributed among the stopped population. In this context, the stopped population is often called the *benchmark*.)\n",
    "\n",
    "* What is the proportion of frisks by `suspect_race`? \n",
    "* What are the frisk rates (i.e., frisks benchmarked to the stopped population) by `suspect_race`? \n",
    "* What information can you draw from these two tables?"
   ]
  },
  {
   "cell_type": "code",
   "execution_count": 94,
   "metadata": {},
   "outputs": [
    {
     "data": {
      "text/html": [
       "<table>\n",
       "<thead><tr><th scope=col>suspect_race</th><th scope=col>prop</th></tr></thead>\n",
       "<tbody>\n",
       "\t<tr><td>white   </td><td>0.103   </td></tr>\n",
       "\t<tr><td>black   </td><td>0.569   </td></tr>\n",
       "\t<tr><td>hispanic</td><td>0.328   </td></tr>\n",
       "</tbody>\n",
       "</table>\n"
      ],
      "text/latex": [
       "\\begin{tabular}{r|ll}\n",
       " suspect\\_race & prop\\\\\n",
       "\\hline\n",
       "\t white    & 0.103   \\\\\n",
       "\t black    & 0.569   \\\\\n",
       "\t hispanic & 0.328   \\\\\n",
       "\\end{tabular}\n"
      ],
      "text/plain": [
       "  suspect_race prop \n",
       "1 white        0.103\n",
       "2 black        0.569\n",
       "3 hispanic     0.328"
      ]
     },
     "metadata": {},
     "output_type": "display_data"
    },
    {
     "data": {
      "text/html": [
       "<table>\n",
       "<thead><tr><th scope=col>suspect_race</th><th scope=col>p_frisked</th></tr></thead>\n",
       "<tbody>\n",
       "\t<tr><td>white   </td><td>0.576   </td></tr>\n",
       "\t<tr><td>black   </td><td>0.740   </td></tr>\n",
       "\t<tr><td>hispanic</td><td>0.719   </td></tr>\n",
       "</tbody>\n",
       "</table>\n"
      ],
      "text/latex": [
       "\\begin{tabular}{r|ll}\n",
       " suspect\\_race & p\\_frisked\\\\\n",
       "\\hline\n",
       "\t white    & 0.576   \\\\\n",
       "\t black    & 0.740   \\\\\n",
       "\t hispanic & 0.719   \\\\\n",
       "\\end{tabular}\n"
      ],
      "text/plain": [
       "  suspect_race p_frisked\n",
       "1 white        0.576    \n",
       "2 black        0.740    \n",
       "3 hispanic     0.719    "
      ]
     },
     "metadata": {},
     "output_type": "display_data"
    }
   ],
   "source": [
    "# WRITE CODE HERE\n",
    "# START solution\n",
    "# Proportion of frisks suspect race\n",
    "stop_df %>%\n",
    "    filter(frisked) %>%\n",
    "    group_by(suspect_race) %>%\n",
    "    summarize(prop = n()/nrow(.))\n",
    "\n",
    "# Frisk rate for stopped suspects by suspect race\n",
    "stop_df %>%\n",
    "    group_by(suspect_race) %>%\n",
    "    summarize(p_frisked = mean(frisked))\n",
    "# END solution"
   ]
  },
  {
   "cell_type": "markdown",
   "metadata": {},
   "source": [
    "### Exercise 3: Dealing with confounders\n",
    "\n",
    "Even if one race group has higher frisk rates than another, one could make the argument that officers might have a legitimate reason to frisk certain individuals more often; it just so happens that the reason is also highly correlated with race. Such a reason is often called a *confounding variable*. We'll discuss an example of this from our data in a moment.\n",
    "\n",
    "Presence of a confounding variable would imply that our assumption in Exercise 2 (that among stopped individuals, all race groups exhibit RAS at equal rates) is missing the mark. If this confounding variable is strongly correlated with RAS and is also unevenly distributed across race groups, then our benchmark (i.e., comparing frisk rates) would be misrepresenting disparities.\n",
    "\n",
    "Note from Exercise 1 that the most commonly suspected crime is *cpw*, criminal possession of a weapon. Given that the primary justification of a frisk is concern for officer safety, one could argue that it is reasonable for an officer to \n",
    "frisk individuals whom they have stopped under suspicion of criminal posession of weapons. It would thus make sense for cpw stops to have higher frisk rates. And if a larger proportion of minority stops were cpw stops, then we might correspondingly expect frisk rates to be higher among minority groups, due to this confounder.\n",
    "\n",
    "To test this theory, first create a new binary column in `stop_df` named `is_cpw` that is `TRUE` if `suspected_crime` is `cpw`. "
   ]
  },
  {
   "cell_type": "code",
   "execution_count": 3,
   "metadata": {},
   "outputs": [],
   "source": [
    "# WRITE CODE TO ADD is_cpw column HERE\n",
    "# START solution\n",
    "stop_df <- stop_df %>%\n",
    "    mutate(is_cpw = suspected_crime == \"cpw\")\n",
    "# END solution"
   ]
  },
  {
   "cell_type": "markdown",
   "metadata": {},
   "source": [
    "Now answer the following:\n",
    "* What proportion of stops were cpw stops, by `suspect_race`?\n",
    "* Among cpw stops, what are the frisk rates by `suspect_race`? Among non-cpw stops, what are the frisk rates by `suspect_race`?\n",
    "* *Hint:* For the two tasks above, your new `is_cpw` column might come in handy!\n",
    "* Summarize your findings. Does `is_cpw` seem like a confounding variable? Does there still appear to be racial disparities in frisk rates even after accounting for whether a stop was cpw or not?"
   ]
  },
  {
   "cell_type": "code",
   "execution_count": 110,
   "metadata": {},
   "outputs": [
    {
     "data": {
      "text/html": [
       "<table>\n",
       "<thead><tr><th scope=col>suspect_race</th><th scope=col>p_cpw</th></tr></thead>\n",
       "<tbody>\n",
       "\t<tr><td>white   </td><td>0.117   </td></tr>\n",
       "\t<tr><td>black   </td><td>0.354   </td></tr>\n",
       "\t<tr><td>hispanic</td><td>0.252   </td></tr>\n",
       "</tbody>\n",
       "</table>\n"
      ],
      "text/latex": [
       "\\begin{tabular}{r|ll}\n",
       " suspect\\_race & p\\_cpw\\\\\n",
       "\\hline\n",
       "\t white    & 0.117   \\\\\n",
       "\t black    & 0.354   \\\\\n",
       "\t hispanic & 0.252   \\\\\n",
       "\\end{tabular}\n"
      ],
      "text/plain": [
       "  suspect_race p_cpw\n",
       "1 white        0.117\n",
       "2 black        0.354\n",
       "3 hispanic     0.252"
      ]
     },
     "metadata": {},
     "output_type": "display_data"
    },
    {
     "data": {
      "text/html": [
       "<table>\n",
       "<thead><tr><th scope=col>is_cpw</th><th scope=col>suspect_race</th><th scope=col>p_frisked</th></tr></thead>\n",
       "<tbody>\n",
       "\t<tr><td>FALSE   </td><td>white   </td><td>0.531   </td></tr>\n",
       "\t<tr><td>FALSE   </td><td>black   </td><td>0.627   </td></tr>\n",
       "\t<tr><td>FALSE   </td><td>hispanic</td><td>0.644   </td></tr>\n",
       "\t<tr><td> TRUE   </td><td>white   </td><td>0.910   </td></tr>\n",
       "\t<tr><td> TRUE   </td><td>black   </td><td>0.946   </td></tr>\n",
       "\t<tr><td> TRUE   </td><td>hispanic</td><td>0.941   </td></tr>\n",
       "</tbody>\n",
       "</table>\n"
      ],
      "text/latex": [
       "\\begin{tabular}{r|lll}\n",
       " is\\_cpw & suspect\\_race & p\\_frisked\\\\\n",
       "\\hline\n",
       "\t FALSE    & white    & 0.531   \\\\\n",
       "\t FALSE    & black    & 0.627   \\\\\n",
       "\t FALSE    & hispanic & 0.644   \\\\\n",
       "\t  TRUE    & white    & 0.910   \\\\\n",
       "\t  TRUE    & black    & 0.946   \\\\\n",
       "\t  TRUE    & hispanic & 0.941   \\\\\n",
       "\\end{tabular}\n"
      ],
      "text/plain": [
       "  is_cpw suspect_race p_frisked\n",
       "1 FALSE  white        0.531    \n",
       "2 FALSE  black        0.627    \n",
       "3 FALSE  hispanic     0.644    \n",
       "4  TRUE  white        0.910    \n",
       "5  TRUE  black        0.946    \n",
       "6  TRUE  hispanic     0.941    "
      ]
     },
     "metadata": {},
     "output_type": "display_data"
    }
   ],
   "source": [
    "# WRITE CODE HERE\n",
    "# START solution\n",
    "# Proportion of stops that were cpw, by suspect race\n",
    "stop_df %>%\n",
    "    group_by(suspect_race) %>%\n",
    "    summarize(p_cpw = mean(is_cpw))\n",
    "\n",
    "# Frisk rate for stopped suspects by suspect race and cpw\n",
    "stop_df %>%\n",
    "    group_by(is_cpw, suspect_race) %>%\n",
    "    summarize(p_frisked = mean(frisked))\n",
    "# END solution"
   ]
  },
  {
   "cell_type": "markdown",
   "metadata": {},
   "source": [
    "### Omitted variable bias"
   ]
  },
  {
   "cell_type": "markdown",
   "metadata": {},
   "source": [
    "Following the above logic, there could be multiple legitimate factors that account for the observed discrepency of being frisked between different race groups. (We'll do this with a more formal statistical model next week.)\n",
    "\n",
    "* Explore `stop_df`, and discuss what variables (columns) should be accounted for when measuring disparate impact of frisk on race.\n",
    "* What variables definitely should (or should *not*) be included?\n",
    "* What variables would you want to account for that we don't have access to?\n",
    "\n",
    "The notion that there's some additional factor that we're not accounting for that would \"explain away\" the disparities is called *omitted variable bias*. The argument is often made that the omitted variable is something that's not even recorded in the data."
   ]
  },
  {
   "cell_type": "markdown",
   "metadata": {},
   "source": [
    "\n",
    "### The outcome test\n",
    "\n",
    "The outcome test, first proposed by Gary Becker in 1957, attempts to get around *omitted variable bias* by focusing on differences in outcomes of post-stop actions (for example, recovery of weapons from frisks), and checking if outcomes differ systematically between whites and minorities. If frisked minorities are less likely than whites to have weapons, it suggests that the bar for frisking minorities is lower than the bar for frisking whites. That lower bar is de facto descrimination.\n",
    "\n",
    "**Discuss with a partner:** \n",
    "* How does the outcome test circumvent omitted variable bias? \n",
    "* What is implied by accounting for confounders in the outcome test versus the original benchmarking context?\n",
    "\n",
    "**Discuss with a partner:** How could the outcome test be applied to test discrimination/bias in the case of lending decisions? Bail bond-setting decisions? Editorial acceptance decisions? What would evidence of bias against minorities look like in each of these three decision-making arenas?\n",
    "\n",
    "### Exercise 4: Computing hit rates\n",
    "\n",
    "Jumping back to our NYC data, to apply the outcome test, we want to compute weapon recovery rates (or \"hit rates\") by race. \n",
    "\n",
    "* **Step 1:** Compute hit rates by race: weapons found divided by frisks conducted."
   ]
  },
  {
   "cell_type": "code",
   "execution_count": 120,
   "metadata": {},
   "outputs": [
    {
     "data": {
      "text/html": [
       "<table>\n",
       "<thead><tr><th scope=col>suspect_race</th><th scope=col>hit_rate</th></tr></thead>\n",
       "<tbody>\n",
       "\t<tr><td>white   </td><td>0.0422  </td></tr>\n",
       "\t<tr><td>black   </td><td>0.0270  </td></tr>\n",
       "\t<tr><td>hispanic</td><td>0.0339  </td></tr>\n",
       "</tbody>\n",
       "</table>\n"
      ],
      "text/latex": [
       "\\begin{tabular}{r|ll}\n",
       " suspect\\_race & hit\\_rate\\\\\n",
       "\\hline\n",
       "\t white    & 0.0422  \\\\\n",
       "\t black    & 0.0270  \\\\\n",
       "\t hispanic & 0.0339  \\\\\n",
       "\\end{tabular}\n"
      ],
      "text/plain": [
       "  suspect_race hit_rate\n",
       "1 white        0.0422  \n",
       "2 black        0.0270  \n",
       "3 hispanic     0.0339  "
      ]
     },
     "metadata": {},
     "output_type": "display_data"
    }
   ],
   "source": [
    "# Compute hit rates by race\n",
    "# WRITE CODE HERE\n",
    "# START solution\n",
    "stop_df %>% \n",
    "  filter(frisked) %>%\n",
    "  group_by(suspect_race) %>%\n",
    "  summarize(hit_rate = mean(found_weapon))\n",
    "# END solution"
   ]
  },
  {
   "cell_type": "markdown",
   "metadata": {},
   "source": [
    "* **Discuss with a partner:** What do you find? How can that be interpreted?\n",
    "\n",
    "An important thing to note is that all the work we've done so far has been citywide.\n",
    "\n",
    "* **Step 2**: Compute hit rates by race and precinct."
   ]
  },
  {
   "cell_type": "code",
   "execution_count": 151,
   "metadata": {},
   "outputs": [],
   "source": [
    "# Compute hit rates by race and department\n",
    "# Save your result to `precinct_hit_rates_by_race`\n",
    "# WRITE CODE HERE\n",
    "# START solution\n",
    "precinct_hit_rates_by_race <-\n",
    "  stop_df %>%\n",
    "  filter(frisked) %>%\n",
    "  group_by(suspect_race, precinct) %>%\n",
    "  summarize(hit_rate = mean(found_weapon))\n",
    "# END solution"
   ]
  },
  {
   "cell_type": "markdown",
   "metadata": {},
   "source": [
    "Next we want to explore these hit rates by police precinct, comparing white versus minority hit rates. Reshaping the data might be helpful in doing this: **TODO: do this for them**"
   ]
  },
  {
   "cell_type": "code",
   "execution_count": 152,
   "metadata": {},
   "outputs": [],
   "source": [
    "# Reshape data to have a white_rate, minority_rate, and minority_race column\n",
    "# Save your result to `white_vs_minority_rates`\n",
    "# Hint: the `spread()` and `gather()` functions might be helpful.\n",
    "# WRITE CODE HERE\n",
    "# START solution\n",
    "white_vs_minority_rates <-\n",
    "  precinct_hit_rates_by_race %>%\n",
    "  spread(suspect_race, hit_rate) %>%\n",
    "  rename(white_rate = white) %>%\n",
    "  gather(minority_race, minority_rate, c(black, hispanic)) %>%\n",
    "  filter(!is.na(minority_rate), !is.na(white_rate)) \n",
    "# END solution"
   ]
  },
  {
   "cell_type": "markdown",
   "metadata": {},
   "source": [
    "If you have time, explore `precinct_hit_rates_by_race` and `white_vs_minority_rates`. Here are some questions to get you started, but you're encouraged to explore your own questions!\n",
    "*  Do precincts have similar hit rates, or is there a wide spread?\n",
    "*  What's the precinct with the highest hit rates? The lowest hit rates?\n",
    "*  What's the precinct with the largest disparity between black and white hit rates?\n",
    "*  Do any precincts have have higher hit rates for black drivers than for white drivers?\n",
    "\n",
    "**Discuss with a partner:** Talk about your findings above. Do differences in hit rates imply officers of certain precincts are more discriminatory than others? What if frisk policies vary by location? What would it mean for different precincts in the city to encourage more or less stringent standards of suspicion prior to conducting frisks?\n",
    "\n",
    "At this point, with over 200 hit rates to compare (1 for each race and precinct), in order to really understand citywide trends, we need some way to visualize our findings. Run the code below to generate a plot for hit rates by race and precinct."
   ]
  },
  {
   "cell_type": "code",
   "execution_count": 171,
   "metadata": {},
   "outputs": [
    {
     "data": {},
     "metadata": {},
     "output_type": "display_data"
    },
    {
     "data": {
      "image/png": "[encoded data removed]",
      "text/plain": [
       "plot without title"
      ]
     },
     "metadata": {},
     "output_type": "display_data",
     "source": "R display func"
    }
   ],
   "source": [
    "# to ensure our visualization isn't biased by precincts with little data,\n",
    "# we filter to the precincts that have some minimum number of frisks, MIN_FRISKS,\n",
    "# for each race\n",
    "MIN_FRISKS <- 20\n",
    "\n",
    "n_frisks <-\n",
    "    stop_df %>%\n",
    "    filter(frisked) %>%\n",
    "    count(precinct, suspect_race) %>%\n",
    "    spread(suspect_race, n) %>%\n",
    "    filter(black > MIN_FRISKS, white > MIN_FRISKS, hispanic > MIN_FRISKS) %>%\n",
    "    gather(minority_race, n, black, hispanic) %>%\n",
    "    mutate(n_frisks = white + n) %>%\n",
    "    select(precinct, minority_race, n_frisks)\n",
    "\n",
    "hit_rates <- inner_join(\n",
    "    white_vs_minority_rates,\n",
    "    n_frisks,\n",
    "    by = c(\"precinct\", \"minority_race\")\n",
    "  )\n",
    "\n",
    "hit_rates %>%\n",
    "  ggplot(aes(x = white_rate, y = minority_rate)) +\n",
    "  geom_point(aes(size = n_frisks), shape = 1, alpha = 0.5) +\n",
    "  geom_abline(linetype = \"dashed\") +\n",
    "  facet_grid(cols = vars(minority_race)) +\n",
    "  coord_fixed() +\n",
    "  scale_x_continuous(limits = c(0, 0.3), labels = scales::percent) +\n",
    "  scale_y_continuous(limits = c(0, 0.3), labels = scales::percent) +\n",
    "  scale_size_area(max_size = 8, labels = scales::comma, breaks = c(150, 500, 1500)) +\n",
    "  labs(\n",
    "    x = \"White hit rates\",\n",
    "    y = \"Minority hit rates\",\n",
    "    size = \"Number of frisks\",\n",
    "    title = \"NYC frisk weapon recovery rates\"\n",
    "  )"
   ]
  },
  {
   "cell_type": "markdown",
   "metadata": {},
   "source": [
    "**Discuss with a partner:** \n",
    "* What do you see in the plot? How would you interpret this? \n",
    "* What do you think might change if we considered `is_cpw`? Is it valid to consider `is_cpw` in this context?"
   ]
  }
 ],
 "metadata": {
  "kernelspec": {
   "display_name": "R",
   "language": "R",
   "name": "ir"
  },
  "language_info": {
   "codemirror_mode": "r",
   "file_extension": ".r",
   "mimetype": "text/x-r-source",
   "name": "R",
   "pygments_lexer": "r",
   "version": "3.4.4"
  }
 },
 "nbformat": 4,
 "nbformat_minor": 2
}
