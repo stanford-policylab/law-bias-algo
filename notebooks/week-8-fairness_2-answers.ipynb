{
 "cells": [
  {
   "cell_type": "markdown",
   "metadata": {},
   "source": [
    "# Law, Bias, and Algorithms\n",
    "## Algorithmic fairness (2/2)\n",
    "\n",
    "Today, we will continue building and evaluating our own risk assessment tool using the COMPAS data to examine some other aspects of fairness.\n",
    "\n",
    "To recap from last week, let's start by loading the data and refitting the model:"
   ]
  },
  {
   "cell_type": "code",
   "execution_count": 1,
   "metadata": {},
   "outputs": [
    {
     "name": "stderr",
     "output_type": "stream",
     "text": [
      "── Attaching packages ─────────────────────────────────────── tidyverse 1.2.1 ──\n",
      "✔ ggplot2 3.1.1       ✔ purrr   0.3.2  \n",
      "✔ tibble  2.1.1       ✔ dplyr   0.8.0.1\n",
      "✔ tidyr   0.8.3       ✔ stringr 1.4.0  \n",
      "✔ readr   1.3.1       ✔ forcats 0.4.0  \n",
      "── Conflicts ────────────────────────────────────────── tidyverse_conflicts() ──\n",
      "✖ dplyr::filter() masks stats::filter()\n",
      "✖ dplyr::lag()    masks stats::lag()\n"
     ]
    }
   ],
   "source": [
    "# Some initial setup\n",
    "options(digits = 3)\n",
    "library(tidyverse)\n",
    "\n",
    "theme_set(theme_bw())\n",
    "\n",
    "# Because huge plots are ugly\n",
    "options(repr.plot.width = 6, repr.plot.height = 4)\n",
    "\n",
    "# Read the data\n",
    "compas_df <- read_rds(\"../data/compas.rds\")\n",
    "\n",
    "# Recap the model\n",
    "recid_model <- glm(is_recid ~ priors_count + age, data = compas_df, family = \"binomial\")\n",
    "compas_df <- compas_df %>%\n",
    "    mutate(\n",
    "        risk = predict(recid_model, type = \"response\"),\n",
    "        predicted_risk_score = round(risk * 10),\n",
    "        pred_recid = risk >= 0.5\n",
    "    )"
   ]
  },
  {
   "cell_type": "markdown",
   "metadata": {},
   "source": [
    "## COMPAS data revisited"
   ]
  },
  {
   "cell_type": "markdown",
   "metadata": {},
   "source": [
    "Recall that the cleaned version of the COMPAS data is loaded as `compas_df`, with the following columns\n",
    "\n",
    "* `id`: unique identifiers for each case\n",
    "* `sex`, `dob`, `age`, `race`: demographic information for each defendant\n",
    "* `recid_score`, `violence_score`: COMPAS scores assessing risk that a defendant will recidivate (`violence_score` for violent crimes) within two years of release (higher score correspond to higher risk)\n",
    "* `priors_count`: number of prior arrests\n",
    "* `is_recid`, `is_violent_recid`: Indicator variable that is `1` if the defendant was arrested for a new (violent) crime within two years of release, and `0` otherwise.\n",
    "\n",
    "and after fitting our model, we have added the following columns\n",
    "\n",
    "* `risk`: the model-predicted probability of recidivism\n",
    "* `predicted_risk_score`: a integer risk score between 0 and 10\n",
    "* `pred_recid`: a binary prediction of whether each defendant will recidivate"
   ]
  },
  {
   "cell_type": "code",
   "execution_count": 2,
   "metadata": {},
   "outputs": [
    {
     "data": {
      "text/html": [
       "<table>\n",
       "<thead><tr><th scope=col>id</th><th scope=col>sex</th><th scope=col>dob</th><th scope=col>age</th><th scope=col>race</th><th scope=col>recid_score</th><th scope=col>violence_score</th><th scope=col>priors_count</th><th scope=col>is_recid</th><th scope=col>is_violent_recid</th><th scope=col>risk</th><th scope=col>predicted_risk_score</th><th scope=col>pred_recid</th></tr></thead>\n",
       "<tbody>\n",
       "\t<tr><td> 3              </td><td>Male            </td><td>1982-01-22      </td><td>34              </td><td>African-American</td><td>3               </td><td>1               </td><td> 0              </td><td>1               </td><td>1               </td><td>0.365           </td><td>4               </td><td>FALSE           </td></tr>\n",
       "\t<tr><td> 4              </td><td>Male            </td><td>1991-05-14      </td><td>24              </td><td>African-American</td><td>4               </td><td>3               </td><td> 4              </td><td>1               </td><td>0               </td><td>0.641           </td><td>6               </td><td> TRUE           </td></tr>\n",
       "\t<tr><td> 5              </td><td>Male            </td><td>1993-01-21      </td><td>23              </td><td>African-American</td><td>8               </td><td>6               </td><td> 1              </td><td>0               </td><td>0               </td><td>0.535           </td><td>5               </td><td> TRUE           </td></tr>\n",
       "\t<tr><td> 8              </td><td>Male            </td><td>1974-07-23      </td><td>41              </td><td>Caucasian       </td><td>6               </td><td>2               </td><td>14              </td><td>1               </td><td>0               </td><td>0.800           </td><td>8               </td><td> TRUE           </td></tr>\n",
       "\t<tr><td>10              </td><td>Female          </td><td>1976-06-03      </td><td>39              </td><td>Caucasian       </td><td>1               </td><td>1               </td><td> 0              </td><td>0               </td><td>0               </td><td>0.311           </td><td>3               </td><td>FALSE           </td></tr>\n",
       "\t<tr><td>13              </td><td>Male            </td><td>1994-06-10      </td><td>21              </td><td>Caucasian       </td><td>3               </td><td>5               </td><td> 1              </td><td>1               </td><td>1               </td><td>0.559           </td><td>6               </td><td> TRUE           </td></tr>\n",
       "</tbody>\n",
       "</table>\n"
      ],
      "text/latex": [
       "\\begin{tabular}{r|lllllllllllll}\n",
       " id & sex & dob & age & race & recid\\_score & violence\\_score & priors\\_count & is\\_recid & is\\_violent\\_recid & risk & predicted\\_risk\\_score & pred\\_recid\\\\\n",
       "\\hline\n",
       "\t  3               & Male             & 1982-01-22       & 34               & African-American & 3                & 1                &  0               & 1                & 1                & 0.365            & 4                & FALSE           \\\\\n",
       "\t  4               & Male             & 1991-05-14       & 24               & African-American & 4                & 3                &  4               & 1                & 0                & 0.641            & 6                &  TRUE           \\\\\n",
       "\t  5               & Male             & 1993-01-21       & 23               & African-American & 8                & 6                &  1               & 0                & 0                & 0.535            & 5                &  TRUE           \\\\\n",
       "\t  8               & Male             & 1974-07-23       & 41               & Caucasian        & 6                & 2                & 14               & 1                & 0                & 0.800            & 8                &  TRUE           \\\\\n",
       "\t 10               & Female           & 1976-06-03       & 39               & Caucasian        & 1                & 1                &  0               & 0                & 0                & 0.311            & 3                & FALSE           \\\\\n",
       "\t 13               & Male             & 1994-06-10       & 21               & Caucasian        & 3                & 5                &  1               & 1                & 1                & 0.559            & 6                &  TRUE           \\\\\n",
       "\\end{tabular}\n"
      ],
      "text/markdown": [
       "\n",
       "| id | sex | dob | age | race | recid_score | violence_score | priors_count | is_recid | is_violent_recid | risk | predicted_risk_score | pred_recid |\n",
       "|---|---|---|---|---|---|---|---|---|---|---|---|---|\n",
       "|  3               | Male             | 1982-01-22       | 34               | African-American | 3                | 1                |  0               | 1                | 1                | 0.365            | 4                | FALSE            |\n",
       "|  4               | Male             | 1991-05-14       | 24               | African-American | 4                | 3                |  4               | 1                | 0                | 0.641            | 6                |  TRUE            |\n",
       "|  5               | Male             | 1993-01-21       | 23               | African-American | 8                | 6                |  1               | 0                | 0                | 0.535            | 5                |  TRUE            |\n",
       "|  8               | Male             | 1974-07-23       | 41               | Caucasian        | 6                | 2                | 14               | 1                | 0                | 0.800            | 8                |  TRUE            |\n",
       "| 10               | Female           | 1976-06-03       | 39               | Caucasian        | 1                | 1                |  0               | 0                | 0                | 0.311            | 3                | FALSE            |\n",
       "| 13               | Male             | 1994-06-10       | 21               | Caucasian        | 3                | 5                |  1               | 1                | 1                | 0.559            | 6                |  TRUE            |\n",
       "\n"
      ],
      "text/plain": [
       "  id sex    dob        age race             recid_score violence_score\n",
       "1  3 Male   1982-01-22 34  African-American 3           1             \n",
       "2  4 Male   1991-05-14 24  African-American 4           3             \n",
       "3  5 Male   1993-01-21 23  African-American 8           6             \n",
       "4  8 Male   1974-07-23 41  Caucasian        6           2             \n",
       "5 10 Female 1976-06-03 39  Caucasian        1           1             \n",
       "6 13 Male   1994-06-10 21  Caucasian        3           5             \n",
       "  priors_count is_recid is_violent_recid risk  predicted_risk_score pred_recid\n",
       "1  0           1        1                0.365 4                    FALSE     \n",
       "2  4           1        0                0.641 6                     TRUE     \n",
       "3  1           0        0                0.535 5                     TRUE     \n",
       "4 14           1        0                0.800 8                     TRUE     \n",
       "5  0           0        0                0.311 3                    FALSE     \n",
       "6  1           1        1                0.559 6                     TRUE     "
      ]
     },
     "metadata": {},
     "output_type": "display_data"
    }
   ],
   "source": [
    "head(compas_df)"
   ]
  },
  {
   "cell_type": "markdown",
   "metadata": {},
   "source": [
    "### Exercise 1: Calibration by gender"
   ]
  },
  {
   "cell_type": "markdown",
   "metadata": {},
   "source": [
    "Last week we examined how our recidivism prediction model performed for different racial groups, and it turned out our model was well calibrated for white and black defendants.\n",
    "\n",
    "For this exercise, we will continue examining calibratoin of our model predictions, but for different gender.\n",
    "\n",
    "We will reuse the `predicted_risk_score` we calculated last week, which is a discretized (rounded) version of predicted risk probability.\n",
    "\n",
    "For Exercise 1, calculate recidivism rates for male and female defendants in our dataset by creating a data frame called `calibration_by_gender` containing three columns: `sex`, `predicted_risk_score`, and `recidivism_rate`.\n",
    "Additionally, to ensure we have enough defendents of each gender in every score bucket, we will limit our maximum score to 8 (i.e., set the risk score to 8 for everyone whose score is greater than 8)."
   ]
  },
  {
   "cell_type": "code",
   "execution_count": 3,
   "metadata": {},
   "outputs": [
    {
     "data": {
      "text/html": [
       "<table>\n",
       "<thead><tr><th scope=col>predicted_risk_score</th><th scope=col>n</th><th scope=col>Female</th><th scope=col>Male</th></tr></thead>\n",
       "<tbody>\n",
       "\t<tr><td>1    </td><td> 127 </td><td>0.125</td><td>0.158</td></tr>\n",
       "\t<tr><td>2    </td><td> 519 </td><td>0.164</td><td>0.237</td></tr>\n",
       "\t<tr><td>3    </td><td> 690 </td><td>0.247</td><td>0.309</td></tr>\n",
       "\t<tr><td>4    </td><td> 943 </td><td>0.312</td><td>0.395</td></tr>\n",
       "\t<tr><td>5    </td><td>1727 </td><td>0.363</td><td>0.486</td></tr>\n",
       "\t<tr><td>6    </td><td>1025 </td><td>0.632</td><td>0.683</td></tr>\n",
       "\t<tr><td>7    </td><td> 505 </td><td>0.759</td><td>0.767</td></tr>\n",
       "\t<tr><td>8    </td><td> 614 </td><td>0.789</td><td>0.820</td></tr>\n",
       "</tbody>\n",
       "</table>\n"
      ],
      "text/latex": [
       "\\begin{tabular}{r|llll}\n",
       " predicted\\_risk\\_score & n & Female & Male\\\\\n",
       "\\hline\n",
       "\t 1     &  127  & 0.125 & 0.158\\\\\n",
       "\t 2     &  519  & 0.164 & 0.237\\\\\n",
       "\t 3     &  690  & 0.247 & 0.309\\\\\n",
       "\t 4     &  943  & 0.312 & 0.395\\\\\n",
       "\t 5     & 1727  & 0.363 & 0.486\\\\\n",
       "\t 6     & 1025  & 0.632 & 0.683\\\\\n",
       "\t 7     &  505  & 0.759 & 0.767\\\\\n",
       "\t 8     &  614  & 0.789 & 0.820\\\\\n",
       "\\end{tabular}\n"
      ],
      "text/markdown": [
       "\n",
       "| predicted_risk_score | n | Female | Male |\n",
       "|---|---|---|---|\n",
       "| 1     |  127  | 0.125 | 0.158 |\n",
       "| 2     |  519  | 0.164 | 0.237 |\n",
       "| 3     |  690  | 0.247 | 0.309 |\n",
       "| 4     |  943  | 0.312 | 0.395 |\n",
       "| 5     | 1727  | 0.363 | 0.486 |\n",
       "| 6     | 1025  | 0.632 | 0.683 |\n",
       "| 7     |  505  | 0.759 | 0.767 |\n",
       "| 8     |  614  | 0.789 | 0.820 |\n",
       "\n"
      ],
      "text/plain": [
       "  predicted_risk_score n    Female Male \n",
       "1 1                     127 0.125  0.158\n",
       "2 2                     519 0.164  0.237\n",
       "3 3                     690 0.247  0.309\n",
       "4 4                     943 0.312  0.395\n",
       "5 5                    1727 0.363  0.486\n",
       "6 6                    1025 0.632  0.683\n",
       "7 7                     505 0.759  0.767\n",
       "8 8                     614 0.789  0.820"
      ]
     },
     "metadata": {},
     "output_type": "display_data"
    }
   ],
   "source": [
    "# Calculate discretized risk score\n",
    "# group people with risk score equal or gretaer than 8\n",
    "\n",
    "calibration_by_gender <- compas_df %>%\n",
    "# WRITE CODE HERE\n",
    "# START solution\n",
    "    mutate(predicted_risk_score = ifelse(predicted_risk_score >= 8, 8, predicted_risk_score)) %>%\n",
    "    group_by(sex, predicted_risk_score) %>%\n",
    "    summarize(\n",
    "        recidivism_rate = mean(is_recid),\n",
    "        n = n()\n",
    "    )\n",
    "# END solution\n",
    "\n",
    "# Put the recidivism rates of different races side by side\n",
    "calibration_by_gender %>%\n",
    "    spread(sex, recidivism_rate) %>%\n",
    "    group_by(predicted_risk_score) %>%\n",
    "    summarize(\n",
    "        n = sum(n),\n",
    "        Female = first(na.omit(Female)),\n",
    "        Male = first(na.omit(Male))\n",
    "    )"
   ]
  },
  {
   "cell_type": "code",
   "execution_count": 4,
   "metadata": {},
   "outputs": [
    {
     "data": {
      "image/png": "[encoded data removed]",
      "text/plain": [
       "plot without title"
      ]
     },
     "metadata": {},
     "output_type": "display_data"
    }
   ],
   "source": [
    "# Calibration plot\n",
    "ggplot(calibration_by_gender, \n",
    "       aes(x = predicted_risk_score, y = recidivism_rate, color = sex)) +\n",
    "    geom_line() + \n",
    "    scale_y_continuous(labels = scales::percent_format(1), limits = c(0, 1))+\n",
    "    scale_x_continuous(breaks = seq(0, 8, 2), limits = c(1, 8))+\n",
    "    labs(x = \"\\nDiscretized risk score\",\n",
    "         y = \"Recidivism rate\\n\")"
   ]
  },
  {
   "cell_type": "markdown",
   "metadata": {},
   "source": [
    "### Exercise 2: Recalibrate the model by including gender"
   ]
  },
  {
   "cell_type": "markdown",
   "metadata": {},
   "source": [
    "Note that we observe roughly 1-point difference for male and female risk scores from the plot above.\n",
    "For example, male defendants who were scored as `4` recidivated at a rate of 40%, while females who recidivated at a similar rate were given a higher score of `5`. \n",
    "This likely indicates that, all else equal, females are lower risk compared to their male counterparts.\n",
    "But because the model is \"blind\" to gender, lower risk females are given the same score as higher risk males.\n",
    "\n",
    "One way to calibrate our model is to explicitly include gender (`sex`) as a variable.\n",
    "In this exercise, build a gender-aware ricidivism pediction model with `priors_count`, `age`, `sex` and add two columns `gender_aware_risk` and `gender_aware_risk_score` to the data frame."
   ]
  },
  {
   "cell_type": "code",
   "execution_count": 5,
   "metadata": {},
   "outputs": [],
   "source": [
    "# Refit the model by including gender\n",
    "\n",
    "# WRITE CODE HERE\n",
    "# START solution\n",
    "recid_gender_model <- glm(is_recid ~ priors_count + age + sex, data = compas_df, family = \"binomial\")\n",
    "compas_df <- compas_df %>%\n",
    "    mutate(\n",
    "        gender_aware_risk = predict(recid_gender_model, type = \"response\"),\n",
    "        gender_aware_risk_score = round(gender_aware_risk * 10)\n",
    "    )\n",
    "# END solution"
   ]
  },
  {
   "cell_type": "code",
   "execution_count": 6,
   "metadata": {},
   "outputs": [
    {
     "data": {
      "text/html": [
       "<table>\n",
       "<thead><tr><th scope=col>gender_aware_risk_score</th><th scope=col>Female</th><th scope=col>Male</th></tr></thead>\n",
       "<tbody>\n",
       "\t<tr><td>1    </td><td>0.164</td><td>0.155</td></tr>\n",
       "\t<tr><td>2    </td><td>0.235</td><td>0.232</td></tr>\n",
       "\t<tr><td>3    </td><td>0.262</td><td>0.310</td></tr>\n",
       "\t<tr><td>4    </td><td>0.340</td><td>0.373</td></tr>\n",
       "\t<tr><td>5    </td><td>0.550</td><td>0.447</td></tr>\n",
       "\t<tr><td>6    </td><td>0.754</td><td>0.658</td></tr>\n",
       "\t<tr><td>7    </td><td>0.789</td><td>0.750</td></tr>\n",
       "\t<tr><td>8    </td><td>0.794</td><td>0.821</td></tr>\n",
       "</tbody>\n",
       "</table>\n"
      ],
      "text/latex": [
       "\\begin{tabular}{r|lll}\n",
       " gender\\_aware\\_risk\\_score & Female & Male\\\\\n",
       "\\hline\n",
       "\t 1     & 0.164 & 0.155\\\\\n",
       "\t 2     & 0.235 & 0.232\\\\\n",
       "\t 3     & 0.262 & 0.310\\\\\n",
       "\t 4     & 0.340 & 0.373\\\\\n",
       "\t 5     & 0.550 & 0.447\\\\\n",
       "\t 6     & 0.754 & 0.658\\\\\n",
       "\t 7     & 0.789 & 0.750\\\\\n",
       "\t 8     & 0.794 & 0.821\\\\\n",
       "\\end{tabular}\n"
      ],
      "text/markdown": [
       "\n",
       "| gender_aware_risk_score | Female | Male |\n",
       "|---|---|---|\n",
       "| 1     | 0.164 | 0.155 |\n",
       "| 2     | 0.235 | 0.232 |\n",
       "| 3     | 0.262 | 0.310 |\n",
       "| 4     | 0.340 | 0.373 |\n",
       "| 5     | 0.550 | 0.447 |\n",
       "| 6     | 0.754 | 0.658 |\n",
       "| 7     | 0.789 | 0.750 |\n",
       "| 8     | 0.794 | 0.821 |\n",
       "\n"
      ],
      "text/plain": [
       "  gender_aware_risk_score Female Male \n",
       "1 1                       0.164  0.155\n",
       "2 2                       0.235  0.232\n",
       "3 3                       0.262  0.310\n",
       "4 4                       0.340  0.373\n",
       "5 5                       0.550  0.447\n",
       "6 6                       0.754  0.658\n",
       "7 7                       0.789  0.750\n",
       "8 8                       0.794  0.821"
      ]
     },
     "metadata": {},
     "output_type": "display_data"
    }
   ],
   "source": [
    "calibration_by_gender <- compas_df %>%\n",
    "    mutate(gender_aware_risk_score = ifelse(gender_aware_risk_score >= 8, 8, gender_aware_risk_score)) %>%\n",
    "    group_by(sex, gender_aware_risk_score) %>%\n",
    "    summarize(recidivism_rate = mean(is_recid))\n",
    "\n",
    "# Put the recidivism rates of different races side by side\n",
    "calibration_by_gender %>%\n",
    "    spread(sex, recidivism_rate)"
   ]
  },
  {
   "cell_type": "code",
   "execution_count": 7,
   "metadata": {},
   "outputs": [
    {
     "data": {
      "text/plain": [
       "\n",
       "Call:\n",
       "glm(formula = is_recid ~ priors_count + age + sex, family = \"binomial\", \n",
       "    data = compas_df)\n",
       "\n",
       "Deviance Residuals: \n",
       "   Min      1Q  Median      3Q     Max  \n",
       "-3.113  -1.068  -0.431   1.067   2.238  \n",
       "\n",
       "Coefficients:\n",
       "             Estimate Std. Error z value Pr(>|z|)    \n",
       "(Intercept)   0.79305    0.10227    7.75  8.9e-15 ***\n",
       "priors_count  0.15836    0.00736   21.53  < 2e-16 ***\n",
       "age          -0.04802    0.00256  -18.79  < 2e-16 ***\n",
       "sexMale       0.37449    0.06954    5.39  7.2e-08 ***\n",
       "---\n",
       "Signif. codes:  0 ‘***’ 0.001 ‘**’ 0.01 ‘*’ 0.05 ‘.’ 0.1 ‘ ’ 1\n",
       "\n",
       "(Dispersion parameter for binomial family taken to be 1)\n",
       "\n",
       "    Null deviance: 8525.6  on 6149  degrees of freedom\n",
       "Residual deviance: 7582.5  on 6146  degrees of freedom\n",
       "AIC: 7590\n",
       "\n",
       "Number of Fisher Scoring iterations: 4\n"
      ]
     },
     "metadata": {},
     "output_type": "display_data"
    },
    {
     "data": {
      "image/png": "[encoded data removed]",
      "text/plain": [
       "plot without title"
      ]
     },
     "metadata": {},
     "output_type": "display_data"
    }
   ],
   "source": [
    "# Show model coeffients\n",
    "# Male as a covariate increases the model's predicted probability of recidivism\n",
    "summary(recid_gender_model)\n",
    "\n",
    "# Calibration plot\n",
    "ggplot(calibration_by_gender, \n",
    "       aes(x = gender_aware_risk_score, y = recidivism_rate, color = sex)) +\n",
    "    geom_line() + \n",
    "    scale_y_continuous(labels = scales::percent_format(1), limits = c(0, 1))+\n",
    "    scale_x_continuous(breaks = seq(0, 8, 2), limits = c(1, 8))+\n",
    "    labs(x = \"\\nDiscretized risk score\",\n",
    "         y = \"Recidivism rate\\n\")"
   ]
  },
  {
   "cell_type": "markdown",
   "metadata": {},
   "source": [
    "### Exercise 3: Compare gender-aware and gender-blind models"
   ]
  },
  {
   "cell_type": "markdown",
   "metadata": {},
   "source": [
    "Now, let's compare our gender-aware and gender-blind models by examining the number of female defendants detained with a detention risk threshold of 50%.\n",
    "Additionally, we will compare model accuracy to see how calibrating our model affects performance."
   ]
  },
  {
   "cell_type": "code",
   "execution_count": 9,
   "metadata": {},
   "outputs": [
    {
     "data": {
      "text/html": [
       "<table>\n",
       "<thead><tr><th scope=col>n_female_detained</th><th scope=col>acc</th><th scope=col>n_female_gender_aware_detained</th><th scope=col>acc_gender_aware</th></tr></thead>\n",
       "<tbody>\n",
       "\t<tr><td>473  </td><td>0.675</td><td>220  </td><td>0.671</td></tr>\n",
       "</tbody>\n",
       "</table>\n"
      ],
      "text/latex": [
       "\\begin{tabular}{r|llll}\n",
       " n\\_female\\_detained & acc & n\\_female\\_gender\\_aware\\_detained & acc\\_gender\\_aware\\\\\n",
       "\\hline\n",
       "\t 473   & 0.675 & 220   & 0.671\\\\\n",
       "\\end{tabular}\n"
      ],
      "text/markdown": [
       "\n",
       "| n_female_detained | acc | n_female_gender_aware_detained | acc_gender_aware |\n",
       "|---|---|---|---|\n",
       "| 473   | 0.675 | 220   | 0.671 |\n",
       "\n"
      ],
      "text/plain": [
       "  n_female_detained acc   n_female_gender_aware_detained acc_gender_aware\n",
       "1 473               0.675 220                            0.671           "
      ]
     },
     "metadata": {},
     "output_type": "display_data"
    }
   ],
   "source": [
    "# Calculate number of females detained and model accuracy for gender-aware and gender-blind models\n",
    "\n",
    "# WRITE CODE HERE\n",
    "compas_df %>%\n",
    "# START solution\n",
    "    mutate(\n",
    "        detained = risk > 0.5,\n",
    "        gender_aware_detained = gender_aware_risk > 0.5\n",
    "    ) %>%\n",
    "    summarize(\n",
    "        n_female_detained = sum(detained & (sex == \"Female\")),\n",
    "        acc = mean(detained == is_recid),\n",
    "        n_female_gender_aware_detained = sum(gender_aware_detained & (sex == \"Female\")),\n",
    "        acc_gender_aware = mean(gender_aware_detained == is_recid)\n",
    "    )\n",
    "# END solution"
   ]
  },
  {
   "cell_type": "markdown",
   "metadata": {},
   "source": [
    "By including gender in our model, we are able to obtain a calibrated model with roughly the same accuracy and fewer number of women detained.\n",
    "However, by explicitly using gender, we violate anti-classification.\n",
    "<!--- Are we satisfied by this approach? --->"
   ]
  },
  {
   "cell_type": "markdown",
   "metadata": {},
   "source": [
    "### Exercise 4: False positive rate and false negative rate"
   ]
  },
  {
   "cell_type": "markdown",
   "metadata": {},
   "source": [
    "We now introduce _false positive rate (FPR)_ and _false negative rate (FNR)_, two common metrics for evaluating model performance.\n",
    "\n",
    "Before we talk about their definitions, we define the following terms:\n",
    "\n",
    "* P: the number of real positive cases in the data\n",
    "* N: the number of real negative cases in the data\n",
    "* TP: true positives; the number of predicted positive cases that were real positives \n",
    "* TN: true negatives; the number of predicted negative cases that were real negatives \n",
    "* FP: false positives; the number of predicted positives that were actually negative in the data (false alarms, Type I error)\n",
    "* FN: false negatives; the number of predicted negatives that were actually positive in the data (Type II error) \n",
    "\n",
    "Their definitions can be illustrated using following table:\n",
    "\n",
    "\n",
    "| <div></div> | Real positive | Real negative |\n",
    "|--------------------|---------------|---------------|\n",
    "| Predicted positive |       TP      |            FP |\n",
    "| Predicted negative |       FN      |            TN |\n",
    "\n",
    "\n",
    "The the false positive rate (FPR) is given by: \n",
    "\n",
    "\\begin{equation}\n",
    "  FPR = \\frac{FP}{N} = \\frac{FP}{FP + TN}\n",
    "\\end{equation}\n",
    "\n",
    "Similarly, the false negative rate (FNR) is given by: \n",
    "\n",
    "\\begin{equation}\n",
    "  FNR = \\frac{FN}{P} = \\frac{FN}{TP + FN}\n",
    "\\end{equation}"
   ]
  },
  {
   "cell_type": "markdown",
   "metadata": {},
   "source": [
    "Coming back to the racial disparity we observed last week, in this exercise, let's calculate our model's FPR and FNR for white and black defendants."
   ]
  },
  {
   "cell_type": "code",
   "execution_count": 11,
   "metadata": {},
   "outputs": [
    {
     "data": {
      "text/html": [
       "<table>\n",
       "<thead><tr><th scope=col>race</th><th scope=col>fpr</th><th scope=col>fnr</th></tr></thead>\n",
       "<tbody>\n",
       "\t<tr><td>African-American</td><td>0.413           </td><td>0.240           </td></tr>\n",
       "\t<tr><td>Caucasian       </td><td>0.228           </td><td>0.487           </td></tr>\n",
       "</tbody>\n",
       "</table>\n"
      ],
      "text/latex": [
       "\\begin{tabular}{r|lll}\n",
       " race & fpr & fnr\\\\\n",
       "\\hline\n",
       "\t African-American & 0.413            & 0.240           \\\\\n",
       "\t Caucasian        & 0.228            & 0.487           \\\\\n",
       "\\end{tabular}\n"
      ],
      "text/markdown": [
       "\n",
       "| race | fpr | fnr |\n",
       "|---|---|---|\n",
       "| African-American | 0.413            | 0.240            |\n",
       "| Caucasian        | 0.228            | 0.487            |\n",
       "\n"
      ],
      "text/plain": [
       "  race             fpr   fnr  \n",
       "1 African-American 0.413 0.240\n",
       "2 Caucasian        0.228 0.487"
      ]
     },
     "metadata": {},
     "output_type": "display_data"
    }
   ],
   "source": [
    "# Complete the function calc_fpr_fnr, which takes a data frame that has at least three columns: race, is_recid and pred_recid,\n",
    "# and returns a data frame with three columns: race, FPR, and FNR\n",
    "\n",
    "calc_fpr_fnr <- function(df) {\n",
    "# WRITE CODE HERE\n",
    "# START solution\n",
    "    df %>%\n",
    "    group_by(race) %>%\n",
    "    summarize(\n",
    "        fp = sum((is_recid == 0) & (pred_recid)),\n",
    "        fn = sum((is_recid == 1) & (!pred_recid)),\n",
    "        positives = sum(is_recid),\n",
    "        negatives = sum(!is_recid),\n",
    "        fpr = fp/negatives,\n",
    "        fnr = fn/positives\n",
    "    ) %>%\n",
    "    select(race, fpr, fnr)\n",
    "# END solution\n",
    "}\n",
    "\n",
    "calc_fpr_fnr(compas_df)"
   ]
  },
  {
   "cell_type": "markdown",
   "metadata": {},
   "source": [
    "### Exercise 5: Equalizing false positive rates"
   ]
  },
  {
   "cell_type": "markdown",
   "metadata": {},
   "source": [
    "Typically, the lower FPR and FNR are, the better the model performs.\n",
    "When we try to build a model that is considered \"fair\", it's natural to consider building a model that will yield classification results with equal FPR (or FNR) for different groups.\n",
    "\n",
    "For our recidivism prediction model, one way to do that is to set different thresholds for white defendants and black defendants.\n",
    "To do so, we will fix our classification threshold for white defendants at 50% and tune the threshold for black defendants so that the false positive rates are equal for both groups."
   ]
  },
  {
   "cell_type": "code",
   "execution_count": 14,
   "metadata": {},
   "outputs": [
    {
     "data": {
      "text/html": [
       "<table>\n",
       "<thead><tr><th scope=col>race</th><th scope=col>fpr</th><th scope=col>fnr</th></tr></thead>\n",
       "<tbody>\n",
       "\t<tr><td>African-American</td><td>0.228           </td><td>0.414           </td></tr>\n",
       "\t<tr><td>Caucasian       </td><td>0.228           </td><td>0.487           </td></tr>\n",
       "</tbody>\n",
       "</table>\n"
      ],
      "text/latex": [
       "\\begin{tabular}{r|lll}\n",
       " race & fpr & fnr\\\\\n",
       "\\hline\n",
       "\t African-American & 0.228            & 0.414           \\\\\n",
       "\t Caucasian        & 0.228            & 0.487           \\\\\n",
       "\\end{tabular}\n"
      ],
      "text/markdown": [
       "\n",
       "| race | fpr | fnr |\n",
       "|---|---|---|\n",
       "| African-American | 0.228            | 0.414            |\n",
       "| Caucasian        | 0.228            | 0.487            |\n",
       "\n"
      ],
      "text/plain": [
       "  race             fpr   fnr  \n",
       "1 African-American 0.228 0.414\n",
       "2 Caucasian        0.228 0.487"
      ]
     },
     "metadata": {},
     "output_type": "display_data"
    },
    {
     "data": {
      "image/png": "[encoded data removed]",
      "text/plain": [
       "plot without title"
      ]
     },
     "metadata": {},
     "output_type": "display_data"
    }
   ],
   "source": [
    "white_threshold = 0.5\n",
    "black_threshold = # WRITE CODE HERE\n",
    "# START solution\n",
    "0.555\n",
    "# END solution\n",
    "\n",
    "# Calculate detention and recidivism rate by race\n",
    "compas_df %>%\n",
    "    mutate(pred_recid = risk > if_else(race == \"Caucasian\", white_threshold, black_threshold)) %>%\n",
    "    calc_fpr_fnr()\n",
    "\n",
    "# See where the thresholds are on the risk distribution\n",
    "options(repr.plot.width = 7, repr.plot.height = 3.5)\n",
    "\n",
    "# Recall this risk distribution plot\n",
    "# Now we add our thresholds in the plots\n",
    "ggplot(compas_df, aes(x = risk, fill = race)) +\n",
    "    geom_density(alpha = 0.5, color = NA) +\n",
    "    scale_x_continuous(\"Estimated risk\", labels = scales::percent_format(1), expand = c(0, 0)) +\n",
    "    scale_y_continuous(element_blank(), expand = c(0, 0)) +\n",
    "    theme(axis.ticks.y = element_blank(),\n",
    "          axis.text.y = element_blank())+\n",
    "    geom_vline(\n",
    "        xintercept = c(black_threshold, white_threshold), \n",
    "        color = c(\"red\", \"blue\"),\n",
    "        alpha = 0.5\n",
    "    )"
   ]
  },
  {
   "cell_type": "markdown",
   "metadata": {},
   "source": [
    "<!--- In the last exercise, --->\n",
    "In order to equalze the false positive rates for both groups,\n",
    "we end up having to apply different classification thresholds, which implies enforcing different policies to different race groups.\n",
    "\n",
    "Do you think having a model that \"performs equally well\" for different groups can be considered \"fair\"?\n",
    "If not, what are some possible alternative approaches?"
   ]
  }
 ],
 "metadata": {
  "kernelspec": {
   "display_name": "R",
   "language": "R",
   "name": "ir"
  },
  "language_info": {
   "codemirror_mode": "r",
   "file_extension": ".r",
   "mimetype": "text/x-r-source",
   "name": "R",
   "pygments_lexer": "r",
   "version": "3.6.0"
  }
 },
 "nbformat": 4,
 "nbformat_minor": 2
}
