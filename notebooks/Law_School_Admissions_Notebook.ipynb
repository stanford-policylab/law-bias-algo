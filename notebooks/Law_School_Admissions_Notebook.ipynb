{
 "cells": [
  {
   "cell_type": "markdown",
   "metadata": {},
   "source": [
    "# Law, Bias, and Algorithms\n",
    "## Narrow Tailoring and Disparate Impact in Law School Admissions\n",
    "This notebook will provide an example of how algoritms can be used to classify individuals. Specifically, it will consider how top tier law schools select admits. \n",
    "\n",
    "This notebook uses the example of law school admissions and considers a whether top law schools would be able to achieve current levels of diversity without directly using race in admissions. \n",
    "\n",
    "This notebook proceeds by first exploring a data set on law school admissions. It then reverse engineers a possible model for law school admissions and asks you to consdier alternative models. Finnally, the notebook ends by considering whether predicted bar passage could serve as a better metric for law school admissions. Throughout the notebook asks you to consider how you could implement an admission algorithm while maintaining diversity in top law schools. "
   ]
  },
  {
   "cell_type": "code",
   "execution_count": 1,
   "metadata": {},
   "outputs": [
    {
     "name": "stderr",
     "output_type": "stream",
     "text": [
      "Warning message:\n",
      "“replacing previous import by ‘tibble::as_tibble’ when loading ‘broom’”Warning message:\n",
      "“replacing previous import by ‘tibble::tibble’ when loading ‘broom’”── Attaching packages ─────────────────────────────────────── tidyverse 1.2.1 ──\n",
      "✔ ggplot2 3.1.0     ✔ purrr   0.2.5\n",
      "✔ tibble  1.4.2     ✔ dplyr   0.7.8\n",
      "✔ tidyr   0.8.2     ✔ stringr 1.3.1\n",
      "✔ readr   1.1.1     ✔ forcats 0.3.0\n",
      "Warning message:\n",
      "“package ‘readr’ was built under R version 3.2.5”── Conflicts ────────────────────────────────────────── tidyverse_conflicts() ──\n",
      "✖ dplyr::filter() masks stats::filter()\n",
      "✖ dplyr::lag()    masks stats::lag()\n",
      "Loaded gbm 2.1.4\n",
      "Warning message:\n",
      "“package ‘zoo’ was built under R version 3.2.5”\n",
      "Attaching package: ‘zoo’\n",
      "\n",
      "The following objects are masked from ‘package:base’:\n",
      "\n",
      "    as.Date, as.Date.numeric\n",
      "\n"
     ]
    }
   ],
   "source": [
    "# Some initial setup\n",
    "options(digits = 3)\n",
    "library(tidyverse)\n",
    "library(gbm)\n",
    "library(zoo)\n",
    "theme_set(theme_bw())\n",
    "\n",
    "# Read the data\n",
    "data <- read_csv(\"../data/bar_passage_data.csv\", col_types = cols())"
   ]
  },
  {
   "cell_type": "markdown",
   "metadata": {},
   "source": [
    "Each row in the data corresponds to a law school admit. The dataset contains the following variables:\n",
    "\n",
    "* An ID number:\n",
    "    * `ID`\n",
    "    \n",
    "    \n",
    "* Base demographic information about the applicant:\n",
    "    * `MINORITY`, `MALE`\n",
    "    * `RACE` is encoded as follows:        \n",
    "        * 0: Non-hispanic White\n",
    "        * 1: Asian, Black, Hispanic, American Indian, Alaskan Native, or Other\n",
    "    * `MALE` is coded as 1 for male applicants and 0 for female applicants\n",
    "        \n",
    "        \n",
    "* Outcome of interest, Bar Passage:\n",
    "    * `PASS_BAR`, `BAR`\n",
    "    * `PASS_BAR` is an indicator variable and is encoded as 0 regardless of why the student did not pass the exam.  They may have dropped out of law school, never taken the bar, or failed the exam. `PASS_BAR` is encoded as 1 if the student eventually passes the bar. \n",
    "    * `BAR` provides more detail about bar results and test history\n",
    "    \n",
    " \n",
    "* Academic Indicators:\n",
    "    * `UGPA` (undergraduate GPA), `LSAT` (LSAT score, scaled to be between 10 and 50)\n",
    "    \n",
    "    \n",
    "* Tier of Law School Attended:\n",
    "    * `TOP_TIER` is an indicator variable for whether an applicant ultmiately attends a top tier school\n",
    "    * Note that students who attend historically black colleges and universities were removed as those schools are outliers in law school admissions.\n",
    "\n",
    "\n",
    "* Family Income Quintile:\n",
    "    * `FAM_INC` provides the family income quintile\n",
    "    * `FAM_INC_1`, `FAM_INC_2`, `FAM_INC_3`, `FAM_INC_4`,` FAM_INC_5` are indicator variables for the income quintile\n",
    "\n",
    "Law school admits whose entries had missing data have been removed."
   ]
  },
  {
   "cell_type": "markdown",
   "metadata": {},
   "source": [
    "### Exploratory Data Analysis\n",
    "#### Excercise 1: Initial Data Exploration\n",
    "Create two tables showing \n",
    "* one, mean LSAT and undergraduate GPA by race, and\n",
    "* two, the total number of law school admits, the number of minority admits, and the percentage of law school admits who are minorties"
   ]
  },
  {
   "cell_type": "code",
   "execution_count": 16,
   "metadata": {},
   "outputs": [
    {
     "data": {
      "text/html": [
       "<table>\n",
       "<thead><tr><th scope=col>MINORITY</th><th scope=col>mean(LSAT)</th><th scope=col>mean(UGPA)</th></tr></thead>\n",
       "<tbody>\n",
       "\t<tr><td>0   </td><td>37.2</td><td>3.25</td></tr>\n",
       "\t<tr><td>1   </td><td>32.0</td><td>3.01</td></tr>\n",
       "</tbody>\n",
       "</table>\n"
      ],
      "text/latex": [
       "\\begin{tabular}{r|lll}\n",
       " MINORITY & mean(LSAT) & mean(UGPA)\\\\\n",
       "\\hline\n",
       "\t 0    & 37.2 & 3.25\\\\\n",
       "\t 1    & 32.0 & 3.01\\\\\n",
       "\\end{tabular}\n"
      ],
      "text/markdown": [
       "\n",
       "MINORITY | mean(LSAT) | mean(UGPA) | \n",
       "|---|---|\n",
       "| 0    | 37.2 | 3.25 | \n",
       "| 1    | 32.0 | 3.01 | \n",
       "\n",
       "\n"
      ],
      "text/plain": [
       "  MINORITY mean(LSAT) mean(UGPA)\n",
       "1 0        37.2       3.25      \n",
       "2 1        32.0       3.01      "
      ]
     },
     "metadata": {},
     "output_type": "display_data"
    },
    {
     "data": {
      "text/html": [
       "<table>\n",
       "<thead><tr><th scope=col></th><th scope=col>Total Law School Admits</th><th scope=col>Minority students admitted</th><th scope=col>Percent of population minority</th></tr></thead>\n",
       "<tbody>\n",
       "\t<tr><td>Full Applicant Population</td><td>26509                    </td><td>3345                     </td><td>0.126                    </td></tr>\n",
       "</tbody>\n",
       "</table>\n"
      ],
      "text/latex": [
       "\\begin{tabular}{r|llll}\n",
       "  & Total Law School Admits & Minority students admitted & Percent of population minority\\\\\n",
       "\\hline\n",
       "\t Full Applicant Population & 26509                     & 3345                      & 0.126                    \\\\\n",
       "\\end{tabular}\n"
      ],
      "text/markdown": [
       "\n",
       " | Total Law School Admits | Minority students admitted | Percent of population minority | \n",
       "|---|\n",
       "| Full Applicant Population | 26509                     | 3345                      | 0.126                     | \n",
       "\n",
       "\n"
      ],
      "text/plain": [
       "                            Total Law School Admits Minority students admitted\n",
       "1 Full Applicant Population 26509                   3345                      \n",
       "  Percent of population minority\n",
       "1 0.126                         "
      ]
     },
     "metadata": {},
     "output_type": "display_data"
    }
   ],
   "source": [
    "#WRITE CODE HERE\n",
    "\n",
    "#BEGIN SOLUTION\n",
    "data %>% \n",
    "    group_by(MINORITY) %>%\n",
    "    summarize(mean(LSAT),mean(UGPA))\n",
    "\n",
    "percent_applicant_minority <- (nrow(filter(data, MINORITY == 1)) / nrow(data))\n",
    "population <- data_frame(A = \"Full Applicant Population\", B = nrow(data), C = sum(data$MINORITY == 1), D = round(percent_applicant_minority,3))\n",
    "colnames(population) <- c(\"\",\"Total Law School Admits\", \"Minority students admitted\",\"Percent of population minority\")\n",
    "population\n",
    "#END SOLUTION"
   ]
  },
  {
   "cell_type": "markdown",
   "metadata": {},
   "source": [
    "The majority-minority test gap has been the subject of extensive scientific inquiry. Potential causes may include differences in school resources, poverty, family structure, environment, and discrimination."
   ]
  },
  {
   "cell_type": "markdown",
   "metadata": {},
   "source": [
    "#### Excercise 2: Current Demographic Composituion and Disparities\n",
    "Create a table showing the proportion students who are minorities at high and non-high tier law schools"
   ]
  },
  {
   "cell_type": "code",
   "execution_count": 17,
   "metadata": {},
   "outputs": [
    {
     "data": {
      "text/html": [
       "<table>\n",
       "<thead><tr><th scope=col>TOP_TIER</th><th scope=col>mean(MINORITY)</th></tr></thead>\n",
       "<tbody>\n",
       "\t<tr><td>0    </td><td>0.118</td></tr>\n",
       "\t<tr><td>1    </td><td>0.149</td></tr>\n",
       "</tbody>\n",
       "</table>\n"
      ],
      "text/latex": [
       "\\begin{tabular}{r|ll}\n",
       " TOP\\_TIER & mean(MINORITY)\\\\\n",
       "\\hline\n",
       "\t 0     & 0.118\\\\\n",
       "\t 1     & 0.149\\\\\n",
       "\\end{tabular}\n"
      ],
      "text/markdown": [
       "\n",
       "TOP_TIER | mean(MINORITY) | \n",
       "|---|---|\n",
       "| 0     | 0.118 | \n",
       "| 1     | 0.149 | \n",
       "\n",
       "\n"
      ],
      "text/plain": [
       "  TOP_TIER mean(MINORITY)\n",
       "1 0        0.118         \n",
       "2 1        0.149         "
      ]
     },
     "metadata": {},
     "output_type": "display_data"
    }
   ],
   "source": [
    "#WRITE CODE HERE\n",
    "\n",
    "#BEGIN SOLUTION\n",
    "data %>% \n",
    "    group_by(TOP_TIER) %>%\n",
    "    summarize(mean(MINORITY))\n",
    "#END SOLUTION"
   ]
  },
  {
   "cell_type": "markdown",
   "metadata": {},
   "source": [
    "### Reverse Engineering Current Admissions\n",
    "\n",
    "We will now reverse engineer an estimated weighting for how law schools make their admissions decisions. We will do this by creating a model of top_tier law school attendance based on LSAT, Undergraduate GPA, Minority status, and low income status. \n",
    "\n",
    "In R, the formulas for statistical models use a special formula object which is created with a common syntax. The formula object is written as \"dependent variable\" ~ \"independent variables\" with each indepedent variable seperated with the \"+\" symbol. "
   ]
  },
  {
   "cell_type": "code",
   "execution_count": 12,
   "metadata": {},
   "outputs": [
    {
     "data": {
      "text/plain": [
       "\n",
       "Call:\n",
       "lm(formula = TOP_TIER ~ LSAT + UGPA + MINORITY + FAM_INC_1, data = data)\n",
       "\n",
       "Residuals:\n",
       "   Min     1Q Median     3Q    Max \n",
       "-0.792 -0.288 -0.157  0.371  1.377 \n",
       "\n",
       "Coefficients:\n",
       "             Estimate Std. Error t value Pr(>|t|)    \n",
       "(Intercept) -1.257021   0.024141  -52.07   <2e-16 ***\n",
       "LSAT         0.025529   0.000481   53.10   <2e-16 ***\n",
       "UGPA         0.171431   0.006219   27.57   <2e-16 ***\n",
       "MINORITY     0.223587   0.007981   28.02   <2e-16 ***\n",
       "FAM_INC_1    0.069476   0.016304    4.26    2e-05 ***\n",
       "---\n",
       "Signif. codes:  0 ‘***’ 0.001 ‘**’ 0.01 ‘*’ 0.05 ‘.’ 0.1 ‘ ’ 1\n",
       "\n",
       "Residual standard error: 0.406 on 26504 degrees of freedom\n",
       "Multiple R-squared:  0.144,\tAdjusted R-squared:  0.144 \n",
       "F-statistic: 1.12e+03 on 4 and 26504 DF,  p-value: <2e-16\n"
      ]
     },
     "metadata": {},
     "output_type": "display_data"
    }
   ],
   "source": [
    "lm_admit <- lm(TOP_TIER ~ LSAT + UGPA + MINORITY + FAM_INC_1, data = data)\n",
    "summary(lm_admit)"
   ]
  },
  {
   "cell_type": "markdown",
   "metadata": {},
   "source": [
    "#### Excercise 3: \n",
    "Discuss the meaning of this model. What does it say about how law schools are admitting students? How accurate do you think it is? Do you suspect that it is misrepresenting or simplyifing the law school admissions process?"
   ]
  },
  {
   "cell_type": "markdown",
   "metadata": {},
   "source": [
    "### Simulating Law School Admissions\n",
    "\n",
    "You will now create an algorithm that simulates law school admissions based on a weighting of your determination. You will create a function that ranks all incoming law students based on their attribures and then admits the top $n$ students to top tier schools, where $n$ is the number of students actually admitted by top tier schools. \n",
    "\n",
    "#### Excercise 4: Exploring Alternative Admissions Functions\n",
    "\n",
    "Create a function that siulates an admissions cycle by giving weights to LSAT, Undergraduate GPA, Minority Status, and low-income status. Are you able to create admissions creiteria that match the diverisity of the application pool? Are you able to do so without explictly using race? Recall that _Gratz_ declared using race in a points based way as part of college admissions unconstitutional. "
   ]
  },
  {
   "cell_type": "code",
   "execution_count": null,
   "metadata": {
    "collapsed": true
   },
   "outputs": [],
   "source": [
    "#WRITE CODE HERE\n",
    "\n",
    "#BEGIN SOLUTION\n",
    "\n",
    "# EXCERCISE 4\n",
    "\n",
    "#END SOLUTION"
   ]
  },
  {
   "cell_type": "markdown",
   "metadata": {},
   "source": [
    "### Using Predicted Bar Passage as a Selection Criterion\n",
    "\n",
    "As an additioanl excercise we can consider what law school admissions would look like if law schools selected law students to optimize bar passage rates. This approach might be motivated from two perspectives. First, perhaps using an outcome-based algorithm would allow schools to lessen the weight on LSAT scores, given the critiques of standardized tests as favoring affluent non-minority groups, and hence constitute a \"workable race-neutral alternative.\" Second, more crudely, one of the major inputs into U.S News and World Report law school rankings is bar passage. Schools might want to admit a class to increase bar passages rates or US News might increase the weight of bar passage in its rankings. Our goal here is to examine whether the adoption of such a policy is a workable alternative and whether it might have disparate impact.\n",
    "\n",
    "#### Excercise 5:\n",
    "\n",
    "We would now like to simulate admissions based on them admiting individual students who are predicted to pass the bar exam. Create a model to predict bar passage and then use this model to simulate an admissions cycle where the students predicted as being the most likely to pass the bar are admitted into the highest tier law schools. We will create our predictive model using simple linear regression. (Because we have a binary outcome, technically a logistic regression would be more appropriate here, but we are using a simple linear model for ease of interpretation.) "
   ]
  },
  {
   "cell_type": "code",
   "execution_count": 24,
   "metadata": {},
   "outputs": [
    {
     "data": {
      "text/plain": [
       "\n",
       "Call:\n",
       "lm(formula = PASS_BAR ~ LSAT + UGPA + MALE + MINORITY + FAM_INC_2 + \n",
       "    FAM_INC_3 + FAM_INC_4 + FAM_INC_5, data = train.conditioned)\n",
       "\n",
       "Residuals:\n",
       "    Min      1Q  Median      3Q     Max \n",
       "-0.9803  0.0718  0.1258  0.1807  0.4479 \n",
       "\n",
       "Coefficients:\n",
       "            Estimate Std. Error t value Pr(>|t|)    \n",
       "(Intercept)  0.28986    0.05945    4.88  1.1e-06 ***\n",
       "LSAT         0.00976    0.00104    9.40  < 2e-16 ***\n",
       "UGPA         0.03266    0.01360    2.40   0.0164 *  \n",
       "MALE        -0.02181    0.00994   -2.20   0.0282 *  \n",
       "MINORITY    -0.01269    0.01442   -0.88   0.3790    \n",
       "FAM_INC_2    0.02570    0.03513    0.73   0.4645    \n",
       "FAM_INC_3    0.05491    0.03270    1.68   0.0932 .  \n",
       "FAM_INC_4    0.09772    0.03255    3.00   0.0027 ** \n",
       "FAM_INC_5    0.08879    0.03503    2.53   0.0113 *  \n",
       "---\n",
       "Signif. codes:  0 ‘***’ 0.001 ‘**’ 0.01 ‘*’ 0.05 ‘.’ 0.1 ‘ ’ 1\n",
       "\n",
       "Residual standard error: 0.354 on 5264 degrees of freedom\n",
       "Multiple R-squared:  0.0367,\tAdjusted R-squared:  0.0353 \n",
       "F-statistic: 25.1 on 8 and 5264 DF,  p-value: <2e-16\n"
      ]
     },
     "metadata": {},
     "output_type": "display_data"
    },
    {
     "data": {
      "text/html": [
       "<table>\n",
       "<thead><tr><th scope=col>Model</th><th scope=col>Minority students admitted to top tier school</th><th scope=col>Percent of admits who are minority</th></tr></thead>\n",
       "<tbody>\n",
       "\t<tr><td>Linear Model for Bar Passage</td><td>72                          </td><td>0.045                       </td></tr>\n",
       "</tbody>\n",
       "</table>\n"
      ],
      "text/latex": [
       "\\begin{tabular}{r|lll}\n",
       " Model & Minority students admitted to top tier school & Percent of admits who are minority\\\\\n",
       "\\hline\n",
       "\t Linear Model for Bar Passage & 72                           & 0.045                       \\\\\n",
       "\\end{tabular}\n"
      ],
      "text/markdown": [
       "\n",
       "Model | Minority students admitted to top tier school | Percent of admits who are minority | \n",
       "|---|\n",
       "| Linear Model for Bar Passage | 72                           | 0.045                        | \n",
       "\n",
       "\n"
      ],
      "text/plain": [
       "  Model                        Minority students admitted to top tier school\n",
       "1 Linear Model for Bar Passage 72                                           \n",
       "  Percent of admits who are minority\n",
       "1 0.045                             "
      ]
     },
     "metadata": {},
     "output_type": "display_data"
    }
   ],
   "source": [
    "set.seed(12346)\n",
    "\n",
    "'%!in%' <- function(x,y){\n",
    "    !('%in%'(x,y))\n",
    "}\n",
    "\n",
    "count <- nrow(data)\n",
    "train_index <- sample(1:count, count*.8, replace = FALSE)\n",
    "train <- data[data$ID %in% train_index,]\n",
    "test <- data[data$ID %!in% train_index,]\n",
    "# WRITE CODE HERE\n",
    "\n",
    "# START solution\n",
    "#Simulate law school admissions based on predicted bar passage\n",
    "\n",
    "train.conditioned <- subset(train, train$TOP_TIER == 1)\n",
    "\n",
    "lm_pass_bar <- lm(PASS_BAR ~ LSAT + UGPA + MALE + MINORITY + \n",
    "             FAM_INC_2 + FAM_INC_3 + FAM_INC_4 + FAM_INC_5, data = train.conditioned)\n",
    "summary(lm_pass_bar)\n",
    "\n",
    "test$pred <- predict(lm_pass_bar, test)\n",
    "\n",
    "select_count <- nrow(subset(test, TOP_TIER == 1))\n",
    "selected <- top_n(test, select_count, pred)  \n",
    "selected_minority <- subset(selected, MINORITY == 1)\n",
    "minority_count <- nrow(selected_minority_lm)\n",
    "percent_minorty <- nrow(selected_minority) / nrow(selected)\n",
    "pass_bar_results <- data_frame(A = \"Linear Model for Bar Passage\", B = minority_count, C = round(percent_minorty,3))\n",
    "colnames(pass_bar_results) <- c(\"Model\",\"Minority students admitted to top tier school\",\"Percent of admits who are minority\")\n",
    "pass_bar_results\n",
    "#END Solution"
   ]
  },
  {
   "cell_type": "markdown",
   "metadata": {},
   "source": [
    "Consider if an admissions office came to you with the proposal of using this model for dertermining which law students that school would admit. How would you evaluate the model and what would you recomemnd to the admissions office? If this model was used, would there be a valid disparate action claim for any applicants who are rejected from top tier schools?"
   ]
  },
  {
   "cell_type": "markdown",
   "metadata": {},
   "source": [
    "#### Discussion Questions\n",
    "\n",
    "One way to characterize the use of bar passage information is as an attempt to reduce the importance of the LSAT in determining law school admissions. Does using bar passage data fulfill the goal of reducing emphasis on the LSAT?\n",
    "\n",
    "Consider what some of the potential problems with this data set are. What factors are not represented in the data that might be relevant for predicting outcomes on the bar exam? For success as an attorney? Are their any concerns about state bar passage as an outcome measure? What factors might drive the differences between the different models?  \n",
    "\n",
    "How well do these models mimic the procedure of the actual admissions process? How does the performance of actual admissions officers compare to the models we have here and to the extent there are differences in outcomes, what factors might drive those differences? \n",
    "\n",
    "Are there important differences between the populations of interest that may influence the model in undesirable ways? Consider whether minority students are more likely to practice in jurisdictions with lower bar passage rates (e.g., NY or CA)? Consider whether stereotype threat or implicit bias might explain differences in academic or bar passage performance between white and minority students and what implications that has for the approach you've studied above."
   ]
  }
 ],
 "metadata": {
  "kernelspec": {
   "display_name": "R",
   "language": "R",
   "name": "ir"
  },
  "language_info": {
   "codemirror_mode": "r",
   "file_extension": ".r",
   "mimetype": "text/x-r-source",
   "name": "R",
   "pygments_lexer": "r",
   "version": "3.2.2"
  }
 },
 "nbformat": 4,
 "nbformat_minor": 2
}
