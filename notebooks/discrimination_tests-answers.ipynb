{
 "cells": [
  {
   "cell_type": "markdown",
   "metadata": {},
   "source": [
    "# MS&E 330: Law, Order, and Algorithms\n",
    "## Tests for discrimination (outcome and threshold tests)"
   ]
  },
  {
   "cell_type": "code",
   "execution_count": 1,
   "metadata": {},
   "outputs": [
    {
     "name": "stderr",
     "output_type": "stream",
     "text": [
      "── Attaching packages ─────────────────────────────────────── tidyverse 1.2.1 ──\n",
      "✔ ggplot2 3.0.0     ✔ purrr   0.2.5\n",
      "✔ tibble  1.4.2     ✔ dplyr   0.7.6\n",
      "✔ tidyr   0.8.0     ✔ stringr 1.3.1\n",
      "✔ readr   1.1.1     ✔ forcats 0.3.0\n",
      "── Conflicts ────────────────────────────────────────── tidyverse_conflicts() ──\n",
      "✖ dplyr::filter() masks stats::filter()\n",
      "✖ dplyr::lag()    masks stats::lag()\n",
      "Warning message in gzfile(file, \"rb\"):\n",
      "“cannot open compressed file '../data/sqf_sample.rds', probable reason 'No such file or directory'”"
     ]
    },
    {
     "ename": "ERROR",
     "evalue": "Error in gzfile(file, \"rb\"): cannot open the connection\n",
     "execution_count": 1,
     "output_type": "error",
     "traceback": [
      "Error in gzfile(file, \"rb\"): cannot open the connection\nTraceback:\n",
      "1. read_rds(\"../data/sqf_sample.rds\")",
      "2. readRDS(path)",
      "3. gzfile(file, \"rb\")"
     ]
    }
   ],
   "source": [
    "options(digits = 3)\n",
    "\n",
    "library(tidyverse)\n",
    "\n",
    "stop <- read_rds(\"../data/sqf_sample.rds\")\n",
    "\n",
    "theme_set(theme_bw())"
   ]
  },
  {
   "cell_type": "markdown",
   "metadata": {},
   "source": [
    "### Introduction\n",
    "\n",
    "A seemingly straightforward way to check if ... Let's take police stops in XX\n",
    "as a case study. First, let's check stop counts by race."
   ]
  },
  {
   "cell_type": "code",
   "execution_count": null,
   "metadata": {},
   "outputs": [],
   "source": [
    "stops %>% count(race)"
   ]
  },
  {
   "cell_type": "markdown",
   "metadata": {},
   "source": [
    "We need to put these counts in context in order to understand whether black\n",
    "individuals are being stopped dispropotionately. An initial check could be\n",
    "the base population. Try computing the per-capita stop rates by race:"
   ]
  },
  {
   "cell_type": "code",
   "execution_count": null,
   "metadata": {},
   "outputs": [],
   "source": [
    "stops %>% \n",
    "  count(race) %>% \n",
    "  left_join(\n",
    "    population,\n",
    "    by = \"race\"\n",
    "  ) %>% \n",
    "  mutate(stop_rate = n / num_people)"
   ]
  },
  {
   "cell_type": "markdown",
   "metadata": {},
   "source": [
    "Clearly black and Hispanic individuals are stopped at a much higher rate than\n",
    "white individuals relative to the residential population in XXloc. However, the\n",
    "argument could be made that black individuals are stopped more often then white individuals because they exhibit suspicious behavior at higher rates than white individuals. The implication of this statement is that instead of comparing the racial distribution of stops to the base racial distribution of population, we should be comparing (or \"benchmarking\") to the underlying racial distribution of suspicious behavior being exhibited. \n",
    "\n",
    "However, the underlying distribution of who is exhibiting suspicious behavior is nearly impossible to obtain. Some common proxies include benchmarking to arrests\n",
    "or violent arrests. However, those are both problematic for a variety of reasons\n",
    "\n",
    "**Discuss with a partner:** Why might using arrests or violent arrests be problematic? What benefits, drawbacks, and assumptions come with each of these two benchmarks?\n",
    "\n",
    "### The outcome test\n",
    "\n",
    "The outcome test, first proposed by Gary Becker in 1957, gets around the \"benchmarking problem\" by focusing on differences in stop outcome (for example, recovery of weapons), and checkking if outcomes differ systematically between whites and minorities. If stopped minorities are less likely than whites to have weapons, it suggests that the bar for stopping minorities is lower than the bar for stopping whites. That lower bar is de facto descrimination.\n",
    "\n",
    "**Discuss with a partner:** How could the outcome test be applied to test discrimination/bias in the case of lending decisions? Bail bond-setting decisions? Editorial acceptance decisions? What would evidence of bias against minorities look like in each of these three decision-making arenas?\n",
    "\n",
    "Jumping back to our XX data, to apply \n"
   ]
  },
  {
   "cell_type": "code",
   "execution_count": null,
   "metadata": {},
   "outputs": [],
   "source": []
  }
 ],
 "metadata": {
  "kernelspec": {
   "display_name": "R",
   "language": "R",
   "name": "ir"
  },
  "language_info": {
   "codemirror_mode": "r",
   "file_extension": ".r",
   "mimetype": "text/x-r-source",
   "name": "R",
   "pygments_lexer": "r",
   "version": "3.4.4"
  }
 },
 "nbformat": 4,
 "nbformat_minor": 2
}
