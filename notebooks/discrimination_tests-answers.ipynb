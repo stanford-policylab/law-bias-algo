{
 "cells": [
  {
   "cell_type": "markdown",
   "metadata": {},
   "source": [
    "# MS&E 330: Law, Order, and Algorithms\n",
    "## Tests for discrimination (outcome and threshold tests)"
   ]
  },
  {
   "cell_type": "code",
   "execution_count": 9,
   "metadata": {},
   "outputs": [],
   "source": [
    "options(digits = 3)\n",
    "\n",
    "library(tidyverse)\n",
    "\n",
    "stop_df <- read_rds(\"../data/nc_sample.rds\")\n",
    "population <- read_rds(\"../data/nc_population.rds\")\n",
    "\n",
    "theme_set(theme_bw())"
   ]
  },
  {
   "cell_type": "markdown",
   "metadata": {},
   "source": [
    "### The data\n",
    "\n",
    "The loaded data frame `stop_df` is a sample of traffic stops in North Carolina. \n",
    "Below is a list of columns in the `stop_df` data:\n",
    "\n",
    "* Base information regarding stop:\n",
    "    * `id`, `stop_date`, `stop_time`, \n",
    "      `police_department`, `county_name`, \n",
    "      `officer_id`\n",
    "* Circumstances which led to stop:\n",
    "    * `violation`   \n",
    "* Suspect demographics:\n",
    "    * `driver_age`, `driver_gender`, `driver_race`\n",
    "* Was person searched?: `searched_conducted`,\n",
    "    * if yes: `search_basis`, `search_type`\n",
    "* Was contraband found?: `contraband_found`     \n",
    "* Stop outcome: `stop_outcome`\n",
    "      \n",
    "The `population` data frame contains statewide populations by race, using the US \n",
    "Census Bureau's ACS 5-year estimates (2012-2016). There are just two columns in\n",
    "this data frame: `race` and `population`.\n",
    "\n",
    "### Introduction\n",
    "\n",
    "A seemingly straightforward way to check if ... (todo: finish intro)\n",
    "\n",
    "Let's take state highway patrol stops in North Carolina as a case study. \n",
    "First, let's check stop counts by race."
   ]
  },
  {
   "cell_type": "code",
   "execution_count": 8,
   "metadata": {},
   "outputs": [
    {
     "data": {
      "text/html": [
       "<table>\n",
       "<thead><tr><th scope=col>driver_race</th><th scope=col>n</th></tr></thead>\n",
       "<tbody>\n",
       "\t<tr><td>Asian   </td><td>  9608  </td></tr>\n",
       "\t<tr><td>Black   </td><td>257671  </td></tr>\n",
       "\t<tr><td>Hispanic</td><td> 72363  </td></tr>\n",
       "\t<tr><td>Other   </td><td> 31842  </td></tr>\n",
       "\t<tr><td>White   </td><td>628516  </td></tr>\n",
       "</tbody>\n",
       "</table>\n"
      ],
      "text/latex": [
       "\\begin{tabular}{r|ll}\n",
       " driver\\_race & n\\\\\n",
       "\\hline\n",
       "\t Asian    &   9608  \\\\\n",
       "\t Black    & 257671  \\\\\n",
       "\t Hispanic &  72363  \\\\\n",
       "\t Other    &  31842  \\\\\n",
       "\t White    & 628516  \\\\\n",
       "\\end{tabular}\n"
      ],
      "text/plain": [
       "  driver_race n     \n",
       "1 Asian         9608\n",
       "2 Black       257671\n",
       "3 Hispanic     72363\n",
       "4 Other        31842\n",
       "5 White       628516"
      ]
     },
     "metadata": {},
     "output_type": "display_data"
    }
   ],
   "source": [
    "# WRITE CODE HERE\n",
    "# START solution\n",
    "stop_df %>% count(driver_race)\n",
    "# START solution"
   ]
  },
  {
   "cell_type": "markdown",
   "metadata": {},
   "source": [
    "We need to put these counts in context in order to understand whether black\n",
    "individuals are being stopped dispropotionately. An initial check could be\n",
    "the base population. Try computing the per-capita stop rates by race:"
   ]
  },
  {
   "cell_type": "code",
   "execution_count": 11,
   "metadata": {},
   "outputs": [
    {
     "data": {
      "text/html": [
       "<table>\n",
       "<thead><tr><th scope=col>driver_race</th><th scope=col>n</th><th scope=col>population</th><th scope=col>stop_rate</th></tr></thead>\n",
       "<tbody>\n",
       "\t<tr><td>Asian   </td><td>  9608  </td><td> 258118 </td><td>0.0372  </td></tr>\n",
       "\t<tr><td>Black   </td><td>257671  </td><td>2104597 </td><td>0.1224  </td></tr>\n",
       "\t<tr><td>Hispanic</td><td> 72363  </td><td> 884763 </td><td>0.0818  </td></tr>\n",
       "\t<tr><td>Other   </td><td> 31842  </td><td> 534587 </td><td>0.0596  </td></tr>\n",
       "\t<tr><td>White   </td><td>628516  </td><td>6361438 </td><td>0.0988  </td></tr>\n",
       "</tbody>\n",
       "</table>\n"
      ],
      "text/latex": [
       "\\begin{tabular}{r|llll}\n",
       " driver\\_race & n & population & stop\\_rate\\\\\n",
       "\\hline\n",
       "\t Asian    &   9608   &  258118  & 0.0372  \\\\\n",
       "\t Black    & 257671   & 2104597  & 0.1224  \\\\\n",
       "\t Hispanic &  72363   &  884763  & 0.0818  \\\\\n",
       "\t Other    &  31842   &  534587  & 0.0596  \\\\\n",
       "\t White    & 628516   & 6361438  & 0.0988  \\\\\n",
       "\\end{tabular}\n"
      ],
      "text/plain": [
       "  driver_race n      population stop_rate\n",
       "1 Asian         9608  258118    0.0372   \n",
       "2 Black       257671 2104597    0.1224   \n",
       "3 Hispanic     72363  884763    0.0818   \n",
       "4 Other        31842  534587    0.0596   \n",
       "5 White       628516 6361438    0.0988   "
      ]
     },
     "metadata": {},
     "output_type": "display_data"
    }
   ],
   "source": [
    "# WRITE CODE HERE\n",
    "# START solution\n",
    "stop_df %>% \n",
    "  count(driver_race) %>% \n",
    "  left_join(\n",
    "    population,\n",
    "    by = c(\"driver_race\" = \"race\")\n",
    "  ) %>% \n",
    "  mutate(stop_rate = n / population)\n",
    "# END solution"
   ]
  },
  {
   "cell_type": "markdown",
   "metadata": {},
   "source": [
    "Clearly black and Hispanic individuals are stopped at a much higher rate than\n",
    "white individuals relative to the residential population in North Carolina. However, the\n",
    "argument could be made that black individuals are stopped more often then white individuals \n",
    "because they exhibit suspicious behavior at higher rates than white individuals. The implication of \n",
    "this statement is that instead of comparing the racial distribution of stops to the base racial \n",
    "distribution of population, we should be comparing (or \"benchmarking\") to the underlying racial \n",
    "distribution of suspicious behavior being exhibited. \n",
    "\n",
    "However, the underlying distribution of who is exhibiting suspicious behavior is nearly impossible \n",
    "to obtain. Some common proxies include benchmarking to arrests\n",
    "or violent arrests. However, those are both problematic for a variety of reasons.\n",
    "\n",
    "**Discuss with a partner:** Why might using arrests or violent arrests be problematic? What benefits, drawbacks, and assumptions come with each of these two benchmarks?\n",
    "\n",
    "### The outcome test\n",
    "\n",
    "The outcome test, first proposed by Gary Becker in 1957, gets around the \"benchmarking problem\" by focusing on differences in stop outcome (for example, recovery of weapons), and checkking if outcomes differ systematically between whites and minorities. If stopped minorities are less likely than whites to have weapons, it suggests that the bar for stopping minorities is lower than the bar for stopping whites. That lower bar is de facto descrimination.\n",
    "\n",
    "**Discuss with a partner:** How could the outcome test be applied to test discrimination/bias in the case of lending decisions? Bail bond-setting decisions? Editorial acceptance decisions? What would evidence of bias against minorities look like in each of these three decision-making arenas?\n",
    "\n",
    "Jumping back to our North Carolina data, to apply \n"
   ]
  },
  {
   "cell_type": "code",
   "execution_count": null,
   "metadata": {},
   "outputs": [],
   "source": []
  }
 ],
 "metadata": {
  "kernelspec": {
   "display_name": "R",
   "language": "R",
   "name": "ir"
  },
  "language_info": {
   "codemirror_mode": "r",
   "file_extension": ".r",
   "mimetype": "text/x-r-source",
   "name": "R",
   "pygments_lexer": "r",
   "version": "3.4.4"
  }
 },
 "nbformat": 4,
 "nbformat_minor": 2
}
