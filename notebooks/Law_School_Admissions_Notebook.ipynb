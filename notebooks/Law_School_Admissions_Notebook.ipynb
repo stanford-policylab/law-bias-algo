{
 "cells": [
  {
   "cell_type": "markdown",
   "metadata": {},
   "source": [
    "# Law, Bias, and Algorithms\n",
    "## Narrow Tailoring and Disparate Impact in Law School Admissions\n",
    "This notebook will provide an example of how algoritms can be used to classify individuals. Specifically, it will consider how top tier law schools select admits. \n",
    "\n",
    "This notebook uses the example of law school admissions and considers a whether top law schools would be able to achieve current levels of diversity without directly using race in admissions. \n",
    "\n",
    "This notebook proceeds by first exploring a data set on law school admissions. It then reverse engineers a possible model for law school admissions and asks you to consdier alternative models. Finnally, the notebook ends by considering whether predicted bar passage could serve as a better metric for law school admissions. Throughout the notebook asks you to consider how you could implement an admission algorithm while maintaining diversity in top law schools. "
   ]
  },
  {
   "cell_type": "code",
   "execution_count": 1,
   "metadata": {},
   "outputs": [
    {
     "name": "stderr",
     "output_type": "stream",
     "text": [
      "── Attaching packages ─────────────────────────────────────── tidyverse 1.2.1 ──\n",
      "✔ ggplot2 3.1.0     ✔ purrr   0.2.5\n",
      "✔ tibble  1.4.2     ✔ dplyr   0.7.7\n",
      "✔ tidyr   0.8.2     ✔ stringr 1.3.1\n",
      "✔ readr   1.1.1     ✔ forcats 0.3.0\n",
      "── Conflicts ────────────────────────────────────────── tidyverse_conflicts() ──\n",
      "✖ dplyr::filter() masks stats::filter()\n",
      "✖ dplyr::lag()    masks stats::lag()\n"
     ]
    }
   ],
   "source": [
    "# Some initial setup\n",
    "options(digits = 3)\n",
    "library(tidyverse)\n",
    "theme_set(theme_bw())\n",
    "\n",
    "# Read the data\n",
    "data <- read_csv(\"../data/bar_passage_data.csv\", \n",
    "                 col_types = cols(MINORITY=\"l\", TOP_TIER=\"l\", MALE=\"l\", PASS_BAR=\"l\")) %>% \n",
    "    mutate(FAM_INC = as.factor(FAM_INC))"
   ]
  },
  {
   "cell_type": "markdown",
   "metadata": {},
   "source": [
    "Each row in the data corresponds to a law school admit. The dataset contains the following variables:\n",
    "\n",
    "* An ID number:\n",
    "    * `ID`\n",
    "    \n",
    "    \n",
    "* Base demographic information about the applicant:\n",
    "    * `MINORITY`, `MALE`\n",
    "    * `RACE` is encoded as follows:        \n",
    "        * `False`: Non-hispanic White\n",
    "        * `True`: Asian, Black, Hispanic, American Indian, Alaskan Native, or Other\n",
    "    * `MALE` is coded as `True` for male applicants and `False` for female applicants\n",
    "        \n",
    "        \n",
    "* Outcome of interest, Bar Passage:\n",
    "    * `PASS_BAR`, `BAR`\n",
    "    * `PASS_BAR` is an indicator variable and is encoded as 0 regardless of why the student did not pass the exam.  They may have dropped out of law school, never taken the bar, or failed the exam. `PASS_BAR` is encoded as 1 if the student eventually passes the bar. \n",
    "    * `BAR` provides more detail about bar results and test history\n",
    "    \n",
    " \n",
    "* Academic Indicators:\n",
    "    * `UGPA` (undergraduate GPA), `LSAT` (LSAT score, scaled to be between 10 and 50)\n",
    "    \n",
    "    \n",
    "* Tier of Law School Attended:\n",
    "    * `TOP_TIER` is an indicator variable for whether an applicant ultmiately attends a top tier school\n",
    "    * Note that students who attend historically black colleges and universities were removed as those schools are outliers in law school admissions.\n",
    "\n",
    "\n",
    "* Family Income Quintile:\n",
    "    * `FAM_INC` provides the family income quintile\n",
    "    * `FAM_INC_1`, `FAM_INC_2`, `FAM_INC_3`, `FAM_INC_4`,` FAM_INC_5` are indicator variables for the income quintile\n",
    "\n",
    "Law school admits whose entries had missing data have been removed."
   ]
  },
  {
   "cell_type": "markdown",
   "metadata": {},
   "source": [
    "### Exploratory Data Analysis\n",
    "\n",
    "We will start our analysis by exploring racial decomposition and disparities.\n",
    "\n",
    "#### Excercise 1: Current Demographic Composituion and Disparities\n",
    "\n",
    "1. Show the mean LSAT and undergraduate GPA by race\n",
    "2. Create a table showing the total number of law school admits, the number of minority admits, and the percentage of law school admits who are minorties\n",
    "3. Recalculate the same statistics in (2), but for top tier law schools only."
   ]
  },
  {
   "cell_type": "code",
   "execution_count": 2,
   "metadata": {},
   "outputs": [
    {
     "data": {
      "text/html": [
       "<table>\n",
       "<thead><tr><th scope=col>MINORITY</th><th scope=col>mean_LSAT</th><th scope=col>mean_UGPA</th></tr></thead>\n",
       "<tbody>\n",
       "\t<tr><td>FALSE</td><td>37.2 </td><td>3.25 </td></tr>\n",
       "\t<tr><td> TRUE</td><td>32.0 </td><td>3.01 </td></tr>\n",
       "</tbody>\n",
       "</table>\n"
      ],
      "text/latex": [
       "\\begin{tabular}{r|lll}\n",
       " MINORITY & mean\\_LSAT & mean\\_UGPA\\\\\n",
       "\\hline\n",
       "\t FALSE & 37.2  & 3.25 \\\\\n",
       "\t  TRUE & 32.0  & 3.01 \\\\\n",
       "\\end{tabular}\n"
      ],
      "text/markdown": [
       "\n",
       "MINORITY | mean_LSAT | mean_UGPA | \n",
       "|---|---|\n",
       "| FALSE | 37.2  | 3.25  | \n",
       "|  TRUE | 32.0  | 3.01  | \n",
       "\n",
       "\n"
      ],
      "text/plain": [
       "  MINORITY mean_LSAT mean_UGPA\n",
       "1 FALSE    37.2      3.25     \n",
       "2  TRUE    32.0      3.01     "
      ]
     },
     "metadata": {},
     "output_type": "display_data"
    },
    {
     "data": {
      "text/html": [
       "<table>\n",
       "<thead><tr><th scope=col>total_admits</th><th scope=col>minority_admits</th><th scope=col>minority_proportion</th></tr></thead>\n",
       "<tbody>\n",
       "\t<tr><td>26509</td><td>3345 </td><td>0.126</td></tr>\n",
       "</tbody>\n",
       "</table>\n"
      ],
      "text/latex": [
       "\\begin{tabular}{r|lll}\n",
       " total\\_admits & minority\\_admits & minority\\_proportion\\\\\n",
       "\\hline\n",
       "\t 26509 & 3345  & 0.126\\\\\n",
       "\\end{tabular}\n"
      ],
      "text/markdown": [
       "\n",
       "total_admits | minority_admits | minority_proportion | \n",
       "|---|\n",
       "| 26509 | 3345  | 0.126 | \n",
       "\n",
       "\n"
      ],
      "text/plain": [
       "  total_admits minority_admits minority_proportion\n",
       "1 26509        3345            0.126              "
      ]
     },
     "metadata": {},
     "output_type": "display_data"
    },
    {
     "data": {
      "text/html": [
       "<table>\n",
       "<thead><tr><th scope=col>total_admits</th><th scope=col>minority_admits</th><th scope=col>minority_proportion</th></tr></thead>\n",
       "<tbody>\n",
       "\t<tr><td>6882 </td><td>1023 </td><td>0.149</td></tr>\n",
       "</tbody>\n",
       "</table>\n"
      ],
      "text/latex": [
       "\\begin{tabular}{r|lll}\n",
       " total\\_admits & minority\\_admits & minority\\_proportion\\\\\n",
       "\\hline\n",
       "\t 6882  & 1023  & 0.149\\\\\n",
       "\\end{tabular}\n"
      ],
      "text/markdown": [
       "\n",
       "total_admits | minority_admits | minority_proportion | \n",
       "|---|\n",
       "| 6882  | 1023  | 0.149 | \n",
       "\n",
       "\n"
      ],
      "text/plain": [
       "  total_admits minority_admits minority_proportion\n",
       "1 6882         1023            0.149              "
      ]
     },
     "metadata": {},
     "output_type": "display_data"
    }
   ],
   "source": [
    "#WRITE CODE HERE\n",
    "\n",
    "#BEGIN SOLUTION\n",
    "\n",
    "# 1.\n",
    "data %>% \n",
    "    group_by(MINORITY) %>%\n",
    "    summarize(\n",
    "        mean_LSAT = mean(LSAT),\n",
    "        mean_UGPA = mean(UGPA)\n",
    "    )\n",
    "\n",
    "# 2.\n",
    "# Minority distribution in all schools\n",
    "data %>%\n",
    "    summarize(\n",
    "        total_admits = n(),\n",
    "        minority_admits = sum(MINORITY),\n",
    "        minority_proportion = minority_admits/total_admits\n",
    "    )\n",
    "\n",
    "# 3.\n",
    "# Minority distribution in top tier schools\n",
    "data %>%\n",
    "    filter(TOP_TIER) %>%\n",
    "    summarize(\n",
    "        total_admits = n(),\n",
    "        minority_admits = sum(MINORITY),\n",
    "        minority_proportion = minority_admits/total_admits\n",
    "    )\n",
    "#END SOLUTION"
   ]
  },
  {
   "cell_type": "markdown",
   "metadata": {},
   "source": [
    "The majority-minority test gap has been the subject of extensive scientific inquiry. Potential causes may include differences in school resources, poverty, family structure, environment, and discrimination."
   ]
  },
  {
   "cell_type": "markdown",
   "metadata": {},
   "source": [
    "### Reverse Engineering Current Admissions\n",
    "\n",
    "If we assume students in our dataset are all students interested in attending law schools, and further assume that [students accepted to top tier law schools all decide to enroll](https://abovethelaw.com/2013/03/which-law-schools-had-the-highest-yield-rate/), we can then reverse engineer an estimated weighting for how law schools make their admissions decisions. We will do this by creating a linear logistic regression model of top tier law school attendance (`TOP_TIER`) based on LSAT, Undergraduate GPA, Minority status, and low income status. We will learn more about this model in a few weeks.\n",
    "\n",
    "In R, the formulas for statistical models use a special formula object which is created with a common syntax. The formula object is written as \"dependent variable\" ~ \"independent variables\" with each indepedent variable seperated with the \"+\" symbol. "
   ]
  },
  {
   "cell_type": "code",
   "execution_count": 3,
   "metadata": {},
   "outputs": [
    {
     "data": {
      "text/plain": [
       "\n",
       "Call:\n",
       "glm(formula = TOP_TIER ~ LSAT + UGPA + MINORITY + FAM_INC_1, \n",
       "    family = \"binomial\", data = data)\n",
       "\n",
       "Deviance Residuals: \n",
       "   Min      1Q  Median      3Q     Max  \n",
       "-2.030  -0.765  -0.524   0.799   3.220  \n",
       "\n",
       "Coefficients:\n",
       "              Estimate Std. Error z value Pr(>|z|)    \n",
       "(Intercept)  -10.58482    0.17756  -59.61  < 2e-16 ***\n",
       "LSAT           0.15776    0.00334   47.30  < 2e-16 ***\n",
       "UGPA           1.04831    0.04035   25.98  < 2e-16 ***\n",
       "MINORITYTRUE   1.26731    0.04965   25.52  < 2e-16 ***\n",
       "FAM_INC_1      0.37942    0.10156    3.74  0.00019 ***\n",
       "---\n",
       "Signif. codes:  0 ‘***’ 0.001 ‘**’ 0.01 ‘*’ 0.05 ‘.’ 0.1 ‘ ’ 1\n",
       "\n",
       "(Dispersion parameter for binomial family taken to be 1)\n",
       "\n",
       "    Null deviance: 30361  on 26508  degrees of freedom\n",
       "Residual deviance: 26224  on 26504  degrees of freedom\n",
       "AIC: 26234\n",
       "\n",
       "Number of Fisher Scoring iterations: 4\n"
      ]
     },
     "metadata": {},
     "output_type": "display_data"
    }
   ],
   "source": [
    "# fit a logistic regression to predict  \n",
    "lr_admit <- glm(TOP_TIER ~ LSAT + UGPA + MINORITY + FAM_INC_1, data = data, family=\"binomial\")\n",
    "summary(lr_admit)"
   ]
  },
  {
   "cell_type": "markdown",
   "metadata": {},
   "source": [
    "In the summary table above, column `Estimate` shows the coefficient for each covariate estimated by our logistic regression model.\n",
    "We can think of the coefficients as different \"weights\" on different aspects when the admission officer is evaluating an individual applicants.\n",
    "\n",
    "We can examine our model's accuracy by running:"
   ]
  },
  {
   "cell_type": "code",
   "execution_count": 4,
   "metadata": {},
   "outputs": [
    {
     "data": {
      "text/html": [
       "<table>\n",
       "<thead><tr><th scope=col>prediction_accuracy</th></tr></thead>\n",
       "<tbody>\n",
       "\t<tr><td>0.781</td></tr>\n",
       "</tbody>\n",
       "</table>\n"
      ],
      "text/latex": [
       "\\begin{tabular}{r|l}\n",
       " prediction\\_accuracy\\\\\n",
       "\\hline\n",
       "\t 0.781\\\\\n",
       "\\end{tabular}\n"
      ],
      "text/markdown": [
       "\n",
       "prediction_accuracy | \n",
       "|---|\n",
       "| 0.781 | \n",
       "\n",
       "\n"
      ],
      "text/plain": [
       "  prediction_accuracy\n",
       "1 0.781              "
      ]
     },
     "metadata": {},
     "output_type": "display_data"
    }
   ],
   "source": [
    "data <- data %>% \n",
    "    mutate(\n",
    "        # Predicted admittance probability\n",
    "        lr_pred = predict(lr_admit, data, type=\"response\"),\n",
    "        # If the probability > 0.5, we will predict the person as being admitted\n",
    "        lr_pred_admit = lr_pred > 0.5\n",
    "    )\n",
    "\n",
    "# Calculate model accuracy, i.e., 78% of our prediction agrees with current admission policy\n",
    "data %>% \n",
    "    summarize(\n",
    "        prediction_accuracy = mean(TOP_TIER == lr_pred_admit)\n",
    "    )"
   ]
  },
  {
   "cell_type": "markdown",
   "metadata": {},
   "source": [
    "#### Excercise 2: \n",
    "Discuss the meaning of this model. What does it say about how law schools are admitting students? How accurate do you think it is? Do you suspect that it is misrepresenting or simplyifing the law school admissions process?"
   ]
  },
  {
   "cell_type": "markdown",
   "metadata": {},
   "source": [
    "### Simulating Law School Admissions\n",
    "\n",
    "You will now create an algorithm that simulates law school admissions based on a weighting of your determination. You will create a function that ranks all incoming law students based on their attribures and then admits the top $n$ students to top tier schools, where $n$ is the number of students actually admitted by top tier schools. Specifically in our dataset, $n$ = 6882."
   ]
  },
  {
   "cell_type": "code",
   "execution_count": 9,
   "metadata": {},
   "outputs": [
    {
     "data": {
      "text/html": [
       "<table>\n",
       "<thead><tr><th scope=col>total_admits</th><th scope=col>minority_admits</th><th scope=col>minority_proportion</th></tr></thead>\n",
       "<tbody>\n",
       "\t<tr><td>6882</td><td>1168</td><td>0.17</td></tr>\n",
       "</tbody>\n",
       "</table>\n"
      ],
      "text/latex": [
       "\\begin{tabular}{r|lll}\n",
       " total\\_admits & minority\\_admits & minority\\_proportion\\\\\n",
       "\\hline\n",
       "\t 6882 & 1168 & 0.17\\\\\n",
       "\\end{tabular}\n"
      ],
      "text/markdown": [
       "\n",
       "total_admits | minority_admits | minority_proportion | \n",
       "|---|\n",
       "| 6882 | 1168 | 0.17 | \n",
       "\n",
       "\n"
      ],
      "text/plain": [
       "  total_admits minority_admits minority_proportion\n",
       "1 6882         1168            0.17               "
      ]
     },
     "metadata": {},
     "output_type": "display_data"
    }
   ],
   "source": [
    "admit_n = 6882\n",
    "\n",
    "# Sort admission probability in reverse order and take the top admit_n students\n",
    "sim_admit <- data %>% \n",
    "    arrange(desc(lr_pred)) %>%\n",
    "    slice(1:admit_n)\n",
    "\n",
    "sim_admit %>%\n",
    "    summarize(\n",
    "        total_admits = n(),\n",
    "        minority_admits = sum(MINORITY),\n",
    "        minority_proportion = minority_admits/total_admits\n",
    "    )\n"
   ]
  },
  {
   "cell_type": "markdown",
   "metadata": {},
   "source": [
    "We observe roughly the same minority proportion as in top tier law schools under current admission policy."
   ]
  },
  {
   "cell_type": "markdown",
   "metadata": {},
   "source": [
    "#### Excercise 3: Exploring Alternative Admissions Functions\n",
    "\n",
    "Create a function that simulates an admissions cycle by giving weights to LSAT, Undergraduate GPA, Minority Status, and low-income status. Are you able to create admissions creiteria that match the diverisity of the application pool? Are you able to do so without explictly using race? Recall that _Gratz_ declared using race in a points based way as part of college admissions unconstitutional. "
   ]
  },
  {
   "cell_type": "code",
   "execution_count": 6,
   "metadata": {
    "collapsed": true
   },
   "outputs": [
    {
     "data": {
      "text/html": [
       "<table>\n",
       "<thead><tr><th scope=col>total_admits</th><th scope=col>minority_admits</th><th scope=col>minority_proportion</th></tr></thead>\n",
       "<tbody>\n",
       "\t<tr><td>6882 </td><td>926  </td><td>0.135</td></tr>\n",
       "</tbody>\n",
       "</table>\n"
      ],
      "text/latex": [
       "\\begin{tabular}{r|lll}\n",
       " total\\_admits & minority\\_admits & minority\\_proportion\\\\\n",
       "\\hline\n",
       "\t 6882  & 926   & 0.135\\\\\n",
       "\\end{tabular}\n"
      ],
      "text/markdown": [
       "\n",
       "total_admits | minority_admits | minority_proportion | \n",
       "|---|\n",
       "| 6882  | 926   | 0.135 | \n",
       "\n",
       "\n"
      ],
      "text/plain": [
       "  total_admits minority_admits minority_proportion\n",
       "1 6882         926             0.135              "
      ]
     },
     "metadata": {},
     "output_type": "display_data"
    }
   ],
   "source": [
    "#WRITE CODE HERE\n",
    "\n",
    "#BEGIN SOLUTION\n",
    "\n",
    "my_sim_admit <- data %>% \n",
    "    mutate(\n",
    "        admit_score = LSAT * 1 + UGPA * 5 + FAM_INC_1 * 30 + FAM_INC_2 * 20\n",
    "    ) %>% \n",
    "    arrange(desc(admit_score)) %>%\n",
    "    slice(1:admit_n)\n",
    "\n",
    "my_sim_admit %>%\n",
    "    summarize(\n",
    "        total_admits = n(),\n",
    "        minority_admits = sum(MINORITY),\n",
    "        minority_proportion = minority_admits/total_admits\n",
    "    )\n",
    "\n",
    "#END SOLUTION"
   ]
  },
  {
   "cell_type": "markdown",
   "metadata": {},
   "source": [
    "### Using Predicted Bar Passage as a Selection Criterion\n",
    "\n",
    "As an additioanl excercise we can consider what law school admissions would look like if law schools selected law students to optimize bar passage rates. This approach might be motivated from two perspectives. First, perhaps using an outcome-based algorithm would allow schools to lessen the weight on LSAT scores, given the critiques of standardized tests as favoring affluent non-minority groups, and hence constitute a \"workable race-neutral alternative.\" Second, more crudely, one of the major inputs into U.S News and World Report law school rankings is bar passage. Schools might want to admit a class to increase bar passages rates or US News might increase the weight of bar passage in its rankings. Our goal here is to examine whether the adoption of such a policy is a workable alternative and whether it might have disparate impact.\n",
    "\n",
    "#### Excercise 4:\n",
    "\n",
    "\n",
    "We would now like to simulate admissions based on them admiting individual students who are predicted to pass the bar exam. Create a model to predict bar passage and then use this model to simulate an admissions cycle where the students predicted as being the most likely to pass the bar are admitted into the highest tier law schools. We will create our predictive model using logistic regression."
   ]
  },
  {
   "cell_type": "code",
   "execution_count": 7,
   "metadata": {},
   "outputs": [
    {
     "data": {
      "text/html": [
       "<table>\n",
       "<thead><tr><th scope=col>total_admits</th><th scope=col>minority_admits</th><th scope=col>minority_proportion</th></tr></thead>\n",
       "<tbody>\n",
       "\t<tr><td>3441  </td><td>61    </td><td>0.0177</td></tr>\n",
       "</tbody>\n",
       "</table>\n"
      ],
      "text/latex": [
       "\\begin{tabular}{r|lll}\n",
       " total\\_admits & minority\\_admits & minority\\_proportion\\\\\n",
       "\\hline\n",
       "\t 3441   & 61     & 0.0177\\\\\n",
       "\\end{tabular}\n"
      ],
      "text/markdown": [
       "\n",
       "total_admits | minority_admits | minority_proportion | \n",
       "|---|\n",
       "| 3441   | 61     | 0.0177 | \n",
       "\n",
       "\n"
      ],
      "text/plain": [
       "  total_admits minority_admits minority_proportion\n",
       "1 3441         61              0.0177             "
      ]
     },
     "metadata": {},
     "output_type": "display_data"
    }
   ],
   "source": [
    "#Simulate law school admissions based on predicted bar passage\n",
    "\n",
    "set.seed(330)\n",
    "\n",
    "# Shuffle data and split train/test set\n",
    "count <- nrow(data)\n",
    "train_perc <- .5\n",
    "train_n = round(count * train_perc)\n",
    "test_admit_n <- round(admit_n * (1 - train_perc)) # number of admits in the test set\n",
    "\n",
    "shuffled_data <- data[sample(nrow(data)),]\n",
    "train <- shuffled_data %>% slice(1:train_n)\n",
    "test <-shuffled_data %>% slice((train_n+1):count)\n",
    "\n",
    "# WRITE CODE HERE\n",
    "\n",
    "# START solution\n",
    "\n",
    "lm_pass_bar <- glm(PASS_BAR ~ LSAT + UGPA + MALE + MINORITY + FAM_INC, \n",
    "                   data = train, family=\"binomial\")\n",
    "\n",
    "test_admitted <- test %>%\n",
    "    mutate(\n",
    "        pass_prob = predict(lm_pass_bar, test, type=\"response\")\n",
    "    ) %>% \n",
    "    arrange(desc(pass_prob)) %>%\n",
    "    slice(1:test_admit_n)\n",
    "\n",
    "test_admitted %>%\n",
    "    summarize(\n",
    "        total_admits = n(),\n",
    "        minority_admits = sum(MINORITY),\n",
    "        minority_proportion = minority_admits/total_admits\n",
    "    )\n",
    "\n",
    "#END Solution"
   ]
  },
  {
   "cell_type": "markdown",
   "metadata": {},
   "source": [
    "Consider if an admissions office came to you with the proposal of using this model for dertermining which law students that school would admit. How would you evaluate the model and what would you recomemnd to the admissions office? If this model was used, would there be a valid disparate action claim for any applicants who are rejected from top tier schools?"
   ]
  },
  {
   "cell_type": "markdown",
   "metadata": {},
   "source": [
    "#### Discussion Questions\n",
    "\n",
    "* One way to characterize the use of bar passage information is as an attempt to reduce the importance of the LSAT in determining law school admissions. Does using bar passage data fulfill the goal of reducing emphasis on the LSAT?\n",
    "\n",
    "* Consider what some of the potential problems with this data set are. What factors are not represented in the data that might be relevant for predicting outcomes on the bar exam? For success as an attorney? Are their any concerns about state bar passage as an outcome measure? What factors might drive the differences between the different models?  \n",
    "\n",
    "* How well do these models mimic the procedure of the actual admissions process? How does the performance of actual admissions officers compare to the models we have here and to the extent there are differences in outcomes, what factors might drive those differences? \n",
    "\n",
    "* Are there important differences between the populations of interest that may influence the model in undesirable ways? Consider whether minority students are more likely to practice in jurisdictions with lower bar passage rates (e.g., NY or CA)? Consider whether stereotype threat or implicit bias might explain differences in academic or bar passage performance between white and minority students and what implications that has for the approach you've studied above."
   ]
  }
 ],
 "metadata": {
  "kernelspec": {
   "display_name": "R",
   "language": "R",
   "name": "ir"
  },
  "language_info": {
   "codemirror_mode": "r",
   "file_extension": ".r",
   "mimetype": "text/x-r-source",
   "name": "R",
   "pygments_lexer": "r",
   "version": "3.5.1"
  }
 },
 "nbformat": 4,
 "nbformat_minor": 2
}
