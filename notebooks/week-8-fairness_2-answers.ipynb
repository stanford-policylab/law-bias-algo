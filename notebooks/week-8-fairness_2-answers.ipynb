{
 "cells": [
  {
   "cell_type": "markdown",
   "metadata": {},
   "source": [
    "# Law, Bias, and Algorithms\n",
    "## Algorithmic fairness (2/2)\n",
    "\n",
    "Today, we will continue building and evaluating our own risk assessment tool using the COMPAS data to examine some other aspects of fairness.\n",
    "\n",
    "Just to recap what's in the data and what was the model we built:"
   ]
  },
  {
   "cell_type": "code",
   "execution_count": 1,
   "metadata": {},
   "outputs": [
    {
     "name": "stderr",
     "output_type": "stream",
     "text": [
      "Registered S3 methods overwritten by 'ggplot2':\n",
      "  method         from \n",
      "  [.quosures     rlang\n",
      "  c.quosures     rlang\n",
      "  print.quosures rlang\n",
      "Registered S3 method overwritten by 'rvest':\n",
      "  method            from\n",
      "  read_xml.response xml2\n",
      "── \u001b[1mAttaching packages\u001b[22m ─────────────────────────────────────── tidyverse 1.2.1 ──\n",
      "\u001b[32m✔\u001b[39m \u001b[34mggplot2\u001b[39m 3.1.1       \u001b[32m✔\u001b[39m \u001b[34mpurrr  \u001b[39m 0.3.2  \n",
      "\u001b[32m✔\u001b[39m \u001b[34mtibble \u001b[39m 2.1.1       \u001b[32m✔\u001b[39m \u001b[34mdplyr  \u001b[39m 0.8.0.\u001b[31m1\u001b[39m\n",
      "\u001b[32m✔\u001b[39m \u001b[34mtidyr  \u001b[39m 0.8.3       \u001b[32m✔\u001b[39m \u001b[34mstringr\u001b[39m 1.4.0  \n",
      "\u001b[32m✔\u001b[39m \u001b[34mreadr  \u001b[39m 1.3.1       \u001b[32m✔\u001b[39m \u001b[34mforcats\u001b[39m 0.4.0  \n",
      "── \u001b[1mConflicts\u001b[22m ────────────────────────────────────────── tidyverse_conflicts() ──\n",
      "\u001b[31m✖\u001b[39m \u001b[34mdplyr\u001b[39m::\u001b[32mfilter()\u001b[39m masks \u001b[34mstats\u001b[39m::filter()\n",
      "\u001b[31m✖\u001b[39m \u001b[34mdplyr\u001b[39m::\u001b[32mlag()\u001b[39m    masks \u001b[34mstats\u001b[39m::lag()\n"
     ]
    }
   ],
   "source": [
    "# Some initial setup\n",
    "options(digits = 3)\n",
    "library(tidyverse)\n",
    "\n",
    "theme_set(theme_bw())\n",
    "\n",
    "# Because huge plots are ugly\n",
    "options(repr.plot.width = 6, repr.plot.height = 4)\n",
    "\n",
    "# Read the data\n",
    "compas_df <- read_rds(\"../data/compas.rds\")\n",
    "\n",
    "# Recap the model\n",
    "recid_model <- glm(is_recid ~ priors_count + age, data = compas_df, family = \"binomial\")\n",
    "compas_df <- compas_df %>%\n",
    "    mutate(\n",
    "        risk = predict(recid_model, type = \"response\"),\n",
    "        predicted_risk_score = round(risk * 10)\n",
    "    )"
   ]
  },
  {
   "cell_type": "markdown",
   "metadata": {},
   "source": [
    "## COMPAS data revisited"
   ]
  },
  {
   "cell_type": "markdown",
   "metadata": {},
   "source": [
    "A cleaned version of the COMPAS data is loaded as `compas_df`, with the following columns\n",
    "\n",
    "* `id`: unique identifiers for each case\n",
    "* `sex`, `dob`, `age`, `race`: demographic information for each defendant\n",
    "* `recid_score`, `violence_score`: COMPAS scores assessing risk that a defendant will recidivate (`violence_score` for violent crimes) within two years of release (higher score correspond to higher risk)\n",
    "* `priors_count`: number of prior arrests\n",
    "* `is_recid`, `is_violent_recid`: Indicator variable that is `1` if the defendant was arrested for a new (violent) crime within two years of release, and `0` otherwise."
   ]
  },
  {
   "cell_type": "code",
   "execution_count": 7,
   "metadata": {},
   "outputs": [
    {
     "data": {
      "text/html": [
       "<table>\n",
       "<thead><tr><th scope=col>id</th><th scope=col>sex</th><th scope=col>dob</th><th scope=col>age</th><th scope=col>race</th><th scope=col>recid_score</th><th scope=col>violence_score</th><th scope=col>priors_count</th><th scope=col>is_recid</th><th scope=col>is_violent_recid</th></tr></thead>\n",
       "<tbody>\n",
       "\t<tr><td> 3              </td><td>Male            </td><td>1982-01-22      </td><td>34              </td><td>African-American</td><td>3               </td><td>1               </td><td> 0              </td><td>1               </td><td>1               </td></tr>\n",
       "\t<tr><td> 4              </td><td>Male            </td><td>1991-05-14      </td><td>24              </td><td>African-American</td><td>4               </td><td>3               </td><td> 4              </td><td>1               </td><td>0               </td></tr>\n",
       "\t<tr><td> 5              </td><td>Male            </td><td>1993-01-21      </td><td>23              </td><td>African-American</td><td>8               </td><td>6               </td><td> 1              </td><td>0               </td><td>0               </td></tr>\n",
       "\t<tr><td> 8              </td><td>Male            </td><td>1974-07-23      </td><td>41              </td><td>Caucasian       </td><td>6               </td><td>2               </td><td>14              </td><td>1               </td><td>0               </td></tr>\n",
       "\t<tr><td>10              </td><td>Female          </td><td>1976-06-03      </td><td>39              </td><td>Caucasian       </td><td>1               </td><td>1               </td><td> 0              </td><td>0               </td><td>0               </td></tr>\n",
       "\t<tr><td>13              </td><td>Male            </td><td>1994-06-10      </td><td>21              </td><td>Caucasian       </td><td>3               </td><td>5               </td><td> 1              </td><td>1               </td><td>1               </td></tr>\n",
       "</tbody>\n",
       "</table>\n"
      ],
      "text/latex": [
       "\\begin{tabular}{r|llllllllll}\n",
       " id & sex & dob & age & race & recid\\_score & violence\\_score & priors\\_count & is\\_recid & is\\_violent\\_recid\\\\\n",
       "\\hline\n",
       "\t  3               & Male             & 1982-01-22       & 34               & African-American & 3                & 1                &  0               & 1                & 1               \\\\\n",
       "\t  4               & Male             & 1991-05-14       & 24               & African-American & 4                & 3                &  4               & 1                & 0               \\\\\n",
       "\t  5               & Male             & 1993-01-21       & 23               & African-American & 8                & 6                &  1               & 0                & 0               \\\\\n",
       "\t  8               & Male             & 1974-07-23       & 41               & Caucasian        & 6                & 2                & 14               & 1                & 0               \\\\\n",
       "\t 10               & Female           & 1976-06-03       & 39               & Caucasian        & 1                & 1                &  0               & 0                & 0               \\\\\n",
       "\t 13               & Male             & 1994-06-10       & 21               & Caucasian        & 3                & 5                &  1               & 1                & 1               \\\\\n",
       "\\end{tabular}\n"
      ],
      "text/markdown": [
       "\n",
       "| id | sex | dob | age | race | recid_score | violence_score | priors_count | is_recid | is_violent_recid |\n",
       "|---|---|---|---|---|---|---|---|---|---|\n",
       "|  3               | Male             | 1982-01-22       | 34               | African-American | 3                | 1                |  0               | 1                | 1                |\n",
       "|  4               | Male             | 1991-05-14       | 24               | African-American | 4                | 3                |  4               | 1                | 0                |\n",
       "|  5               | Male             | 1993-01-21       | 23               | African-American | 8                | 6                |  1               | 0                | 0                |\n",
       "|  8               | Male             | 1974-07-23       | 41               | Caucasian        | 6                | 2                | 14               | 1                | 0                |\n",
       "| 10               | Female           | 1976-06-03       | 39               | Caucasian        | 1                | 1                |  0               | 0                | 0                |\n",
       "| 13               | Male             | 1994-06-10       | 21               | Caucasian        | 3                | 5                |  1               | 1                | 1                |\n",
       "\n"
      ],
      "text/plain": [
       "  id sex    dob        age race             recid_score violence_score\n",
       "1  3 Male   1982-01-22 34  African-American 3           1             \n",
       "2  4 Male   1991-05-14 24  African-American 4           3             \n",
       "3  5 Male   1993-01-21 23  African-American 8           6             \n",
       "4  8 Male   1974-07-23 41  Caucasian        6           2             \n",
       "5 10 Female 1976-06-03 39  Caucasian        1           1             \n",
       "6 13 Male   1994-06-10 21  Caucasian        3           5             \n",
       "  priors_count is_recid is_violent_recid\n",
       "1  0           1        1               \n",
       "2  4           1        0               \n",
       "3  1           0        0               \n",
       "4 14           1        0               \n",
       "5  0           0        0               \n",
       "6  1           1        1               "
      ]
     },
     "metadata": {},
     "output_type": "display_data"
    }
   ],
   "source": [
    "head(compas_df)"
   ]
  },
  {
   "cell_type": "markdown",
   "metadata": {},
   "source": [
    "### Exercise 1: Calibration by gender"
   ]
  },
  {
   "cell_type": "code",
   "execution_count": null,
   "metadata": {},
   "outputs": [],
   "source": []
  },
  {
   "cell_type": "markdown",
   "metadata": {},
   "source": [
    "### Exercise 2: Relibrate the model by including gender"
   ]
  },
  {
   "cell_type": "code",
   "execution_count": null,
   "metadata": {},
   "outputs": [],
   "source": []
  },
  {
   "cell_type": "markdown",
   "metadata": {},
   "source": [
    "### Exercise 3: False positive rate and false negative rate"
   ]
  },
  {
   "cell_type": "code",
   "execution_count": null,
   "metadata": {},
   "outputs": [],
   "source": []
  },
  {
   "cell_type": "markdown",
   "metadata": {},
   "source": [
    "### Exercise 4: Equalizing false positive rates"
   ]
  },
  {
   "cell_type": "code",
   "execution_count": null,
   "metadata": {},
   "outputs": [],
   "source": []
  }
 ],
 "metadata": {
  "kernelspec": {
   "display_name": "R",
   "language": "R",
   "name": "ir"
  },
  "language_info": {
   "codemirror_mode": "r",
   "file_extension": ".r",
   "mimetype": "text/x-r-source",
   "name": "R",
   "pygments_lexer": "r",
   "version": "3.6.0"
  }
 },
 "nbformat": 4,
 "nbformat_minor": 2
}
